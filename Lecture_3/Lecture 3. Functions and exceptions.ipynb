{
 "cells": [
  {
   "cell_type": "markdown",
   "metadata": {},
   "source": [
    "<table>\n",
    "<tr style=\"background:transparent\">\n",
    " <td><font size=\"7\" face=\"serif\"><b>Курс анализа данных на Python</b></font></td>   \n",
    " <td><img src=\"Image_third_lecture/Unknown.png\" alt=\"Змейка\" width=\"200\" height=\"100\"></td>\n",
    "</tr>\n",
    "</table>"
   ]
  },
  {
   "cell_type": "markdown",
   "metadata": {},
   "source": [
    "<img src=\"Image_third_lecture/function.png\" alt=\"Функция\" width=\"800\">"
   ]
  },
  {
   "cell_type": "markdown",
   "metadata": {},
   "source": [
    "<center><font size=\"6\" face=\"serif\"><b>Функции в языке Python</b></font></center>"
   ]
  },
  {
   "cell_type": "markdown",
   "metadata": {},
   "source": [
    "## Навигация"
   ]
  },
  {
   "cell_type": "markdown",
   "metadata": {},
   "source": [
    "[Обыкновенные функции](#function)\n",
    "\n",
    "[Аргументы функций](#argument)\n",
    "\n",
    "[Лямбда функции (анонимные функции)](#lambda)\n",
    "\n",
    "[Обработка исключений](#errors)"
   ]
  },
  {
   "cell_type": "markdown",
   "metadata": {},
   "source": [
    "### Обыкновенные функции <a class=\"anchor\" id=\"function\"></a>"
   ]
  },
  {
   "cell_type": "markdown",
   "metadata": {},
   "source": [
    "**Функция** - это часть кода, вызываемая по запросу. ПФункция задается ключевым словом *def*, далее записывается имя функции (по стилю программирования PEP8 название функции принятно задавать с маленькой буквы), после которого идут скобки, в которые записываются аргументы функции. Даже если вы не собираетесь передавать функции аргументы - скобки обязательны - это синтаксис языка!!!"
   ]
  },
  {
   "cell_type": "markdown",
   "metadata": {},
   "source": [
    "```\n",
    "def имя_функции(аргументы):\n",
    "    инструкции\n",
    "```"
   ]
  },
  {
   "cell_type": "markdown",
   "metadata": {},
   "source": [
    "Имя фукнции может содержать латиницу, цифры и знак нижнего подчеркивания, но не может начинаться с цифры!"
   ]
  },
  {
   "cell_type": "code",
   "execution_count": 2,
   "metadata": {},
   "outputs": [
    {
     "ename": "SyntaxError",
     "evalue": "invalid token (<ipython-input-2-5a79fc630878>, line 1)",
     "output_type": "error",
     "traceback": [
      "\u001b[0;36m  File \u001b[0;32m\"<ipython-input-2-5a79fc630878>\"\u001b[0;36m, line \u001b[0;32m1\u001b[0m\n\u001b[0;31m    def 1_func(x):\u001b[0m\n\u001b[0m         ^\u001b[0m\n\u001b[0;31mSyntaxError\u001b[0m\u001b[0;31m:\u001b[0m invalid token\n"
     ]
    }
   ],
   "source": [
    "def 1_func(x):\n",
    "    print(x)"
   ]
  },
  {
   "cell_type": "markdown",
   "metadata": {},
   "source": [
    "Если вы хотите, чтобы фукнция возвращала результат - воспользуйтесь ключевым словом *return*. Встретив слово *return* выполнение функции останавливается и возвращается значение."
   ]
  },
  {
   "cell_type": "code",
   "execution_count": 3,
   "metadata": {},
   "outputs": [],
   "source": [
    "def func(x):\n",
    "    x += 1\n",
    "    return x**2\n",
    "    print(x)"
   ]
  },
  {
   "cell_type": "code",
   "execution_count": 4,
   "metadata": {},
   "outputs": [
    {
     "data": {
      "text/plain": [
       "9"
      ]
     },
     "execution_count": 4,
     "metadata": {},
     "output_type": "execute_result"
    }
   ],
   "source": [
    "func(2)"
   ]
  },
  {
   "cell_type": "markdown",
   "metadata": {},
   "source": [
    "В Python функция **всегда** возвращает результат! Если пользователь не написао ключевое слово *return*, функция возвращает **None**."
   ]
  },
  {
   "cell_type": "code",
   "execution_count": 5,
   "metadata": {},
   "outputs": [
    {
     "name": "stdout",
     "output_type": "stream",
     "text": [
      "8\n",
      "None\n"
     ]
    }
   ],
   "source": [
    "def func_2(x):\n",
    "    x += 1\n",
    "    x *= 2\n",
    "    print(x)\n",
    "    \n",
    "print(func_2(3))"
   ]
  },
  {
   "cell_type": "markdown",
   "metadata": {},
   "source": [
    "Функции, которые определеные в классах называюстя методами."
   ]
  },
  {
   "cell_type": "markdown",
   "metadata": {},
   "source": [
    "В Python функции - это тоже объекты, которые обрабатываются, как любые другие объекты. Например, функцию можно передавать в качестве аргумента другой функции."
   ]
  },
  {
   "cell_type": "code",
   "execution_count": 6,
   "metadata": {},
   "outputs": [
    {
     "name": "stdout",
     "output_type": "stream",
     "text": [
      "<class 'function'>\n"
     ]
    }
   ],
   "source": [
    "print(type(func))"
   ]
  },
  {
   "cell_type": "code",
   "execution_count": 7,
   "metadata": {},
   "outputs": [
    {
     "name": "stdout",
     "output_type": "stream",
     "text": [
      "16 - <class 'int'>\n",
      "16 - <class 'str'>\n"
     ]
    }
   ],
   "source": [
    "def int_to_str(x):\n",
    "    return str(x)\n",
    "\n",
    "print(f'{func(3)} - {type(func(3))}')\n",
    "print(f'{int_to_str(func(3))} - {type(int_to_str(func(3)))}')"
   ]
  },
  {
   "cell_type": "markdown",
   "metadata": {},
   "source": [
    "Функция может не принимать никаких аргументов."
   ]
  },
  {
   "cell_type": "code",
   "execution_count": 8,
   "metadata": {},
   "outputs": [
    {
     "name": "stdout",
     "output_type": "stream",
     "text": [
      "Hello!\n"
     ]
    }
   ],
   "source": [
    "def hello():\n",
    "    print('Hello!')\n",
    "    \n",
    "hello()"
   ]
  },
  {
   "cell_type": "markdown",
   "metadata": {},
   "source": [
    "### Аргументы функций <a class=\"acnhor\" id=\"argument\"></a>"
   ]
  },
  {
   "cell_type": "markdown",
   "metadata": {},
   "source": [
    "Аргументы фукнций бывают нескольких видов:\n",
    "- позиционные (обязательные);\n",
    "- именованные (необязательные);\n",
    "- $*args$;\n",
    "- $**kwargs$."
   ]
  },
  {
   "cell_type": "markdown",
   "metadata": {},
   "source": [
    "#### Позиционные (обязательные) агрументы "
   ]
  },
  {
   "cell_type": "markdown",
   "metadata": {},
   "source": [
    "Самые обычные аргументы фукнций, которые вы представляете себе в 1 очередь. Если их не передать функции сгенерируется исключение (ошибка). В следующем примере $x$ и $y$ являются позиционные аргументами. Позиционные аргументы всегда идут первыми в задании функции."
   ]
  },
  {
   "cell_type": "code",
   "execution_count": 9,
   "metadata": {},
   "outputs": [],
   "source": [
    "def multiplication(x, y):\n",
    "    return x * y"
   ]
  },
  {
   "cell_type": "code",
   "execution_count": 10,
   "metadata": {},
   "outputs": [
    {
     "ename": "TypeError",
     "evalue": "multiplication() missing 1 required positional argument: 'y'",
     "output_type": "error",
     "traceback": [
      "\u001b[0;31m---------------------------------------------------------------------------\u001b[0m",
      "\u001b[0;31mTypeError\u001b[0m                                 Traceback (most recent call last)",
      "\u001b[0;32m<ipython-input-10-627abd7a6471>\u001b[0m in \u001b[0;36m<module>\u001b[0;34m\u001b[0m\n\u001b[0;32m----> 1\u001b[0;31m \u001b[0mmultiplication\u001b[0m\u001b[0;34m(\u001b[0m\u001b[0;36m3\u001b[0m\u001b[0;34m)\u001b[0m\u001b[0;34m\u001b[0m\u001b[0;34m\u001b[0m\u001b[0m\n\u001b[0m",
      "\u001b[0;31mTypeError\u001b[0m: multiplication() missing 1 required positional argument: 'y'"
     ]
    }
   ],
   "source": [
    "multiplication(3)"
   ]
  },
  {
   "cell_type": "code",
   "execution_count": 11,
   "metadata": {},
   "outputs": [
    {
     "data": {
      "text/plain": [
       "15"
      ]
     },
     "execution_count": 11,
     "metadata": {},
     "output_type": "execute_result"
    }
   ],
   "source": [
    "multiplication(3, 5)"
   ]
  },
  {
   "cell_type": "markdown",
   "metadata": {},
   "source": [
    "#### Именованные (необязательные) аргументы "
   ]
  },
  {
   "cell_type": "markdown",
   "metadata": {},
   "source": [
    "Именованные агрументы **ВСЕГДА** должны идти **ПОСЛЕ** позиционных аргументов. В случае задания функции, именованные агрументы принимают значение по-умолчанию, которое необязательно передавать в функцию."
   ]
  },
  {
   "cell_type": "code",
   "execution_count": 12,
   "metadata": {},
   "outputs": [],
   "source": [
    "def get_pow(y, x = 1):\n",
    "    return pow(y, x)"
   ]
  },
  {
   "cell_type": "code",
   "execution_count": 13,
   "metadata": {},
   "outputs": [
    {
     "data": {
      "text/plain": [
       "2"
      ]
     },
     "execution_count": 13,
     "metadata": {},
     "output_type": "execute_result"
    }
   ],
   "source": [
    "get_pow(2)"
   ]
  },
  {
   "cell_type": "code",
   "execution_count": 14,
   "metadata": {},
   "outputs": [
    {
     "data": {
      "text/plain": [
       "8"
      ]
     },
     "execution_count": 14,
     "metadata": {},
     "output_type": "execute_result"
    }
   ],
   "source": [
    "get_pow(2, 3)"
   ]
  },
  {
   "cell_type": "code",
   "execution_count": 15,
   "metadata": {},
   "outputs": [
    {
     "data": {
      "text/plain": [
       "9"
      ]
     },
     "execution_count": 15,
     "metadata": {},
     "output_type": "execute_result"
    }
   ],
   "source": [
    "get_pow(y = 3, x = 2)"
   ]
  },
  {
   "cell_type": "markdown",
   "metadata": {},
   "source": [
    "В случае передачи аргументов функции - вначале идет присваивание позиционных агрументов по порядку."
   ]
  },
  {
   "cell_type": "code",
   "execution_count": 16,
   "metadata": {},
   "outputs": [],
   "source": [
    "def concat(x, y):\n",
    "    return str(x) + str(y)"
   ]
  },
  {
   "cell_type": "code",
   "execution_count": 17,
   "metadata": {},
   "outputs": [
    {
     "ename": "TypeError",
     "evalue": "concat() got multiple values for argument 'x'",
     "output_type": "error",
     "traceback": [
      "\u001b[0;31m---------------------------------------------------------------------------\u001b[0m",
      "\u001b[0;31mTypeError\u001b[0m                                 Traceback (most recent call last)",
      "\u001b[0;32m<ipython-input-17-ead3cbbda447>\u001b[0m in \u001b[0;36m<module>\u001b[0;34m\u001b[0m\n\u001b[0;32m----> 1\u001b[0;31m \u001b[0mconcat\u001b[0m\u001b[0;34m(\u001b[0m\u001b[0;36m4\u001b[0m\u001b[0;34m,\u001b[0m \u001b[0mx\u001b[0m \u001b[0;34m=\u001b[0m \u001b[0;36m6\u001b[0m\u001b[0;34m)\u001b[0m\u001b[0;34m\u001b[0m\u001b[0;34m\u001b[0m\u001b[0m\n\u001b[0m",
      "\u001b[0;31mTypeError\u001b[0m: concat() got multiple values for argument 'x'"
     ]
    }
   ],
   "source": [
    "concat(4, x = 6)"
   ]
  },
  {
   "cell_type": "markdown",
   "metadata": {},
   "source": [
    "#### $*args$ "
   ]
  },
  {
   "cell_type": "markdown",
   "metadata": {},
   "source": [
    "После именованных переменных в функции можно записать конструкцию, которая запишет в кортеж с именем $args$ все лишние позиционные (неименованные) аргументы, передаваемые функции."
   ]
  },
  {
   "cell_type": "code",
   "execution_count": 18,
   "metadata": {},
   "outputs": [],
   "source": [
    "def func_args(x, y = 5, *args):\n",
    "    print(f'{x} + {y} = {x + y}')\n",
    "    print(f'Тип args - {type(args)}')\n",
    "    print(f'Значение args - {args}')"
   ]
  },
  {
   "cell_type": "code",
   "execution_count": 19,
   "metadata": {},
   "outputs": [
    {
     "name": "stdout",
     "output_type": "stream",
     "text": [
      "3 + 6 = 9\n",
      "Тип args - <class 'tuple'>\n",
      "Значение args - (1, 2, 3, 4, 5, 6)\n"
     ]
    }
   ],
   "source": [
    "func_args(3, 6, 1, 2, 3, 4, 5, 6)"
   ]
  },
  {
   "cell_type": "code",
   "execution_count": 20,
   "metadata": {},
   "outputs": [
    {
     "name": "stdout",
     "output_type": "stream",
     "text": [
      "3 + 6 = 9\n",
      "Тип args - <class 'tuple'>\n",
      "Значение args - ()\n"
     ]
    }
   ],
   "source": [
    "func_args(3, 6)"
   ]
  },
  {
   "cell_type": "markdown",
   "metadata": {},
   "source": [
    "**Запомните**, что $args$ - это лишь самое распространенное название, имя после звездочки может быть любым.  "
   ]
  },
  {
   "cell_type": "code",
   "execution_count": 21,
   "metadata": {},
   "outputs": [
    {
     "name": "stdout",
     "output_type": "stream",
     "text": [
      "(3, 5, 6, {1: 2}, [5, 6, 7], 'qwe')\n"
     ]
    }
   ],
   "source": [
    "def not_args(*aaa):\n",
    "    print(aaa)\n",
    "    \n",
    "not_args(3, 5, 6, {1:2}, [5,6,7], 'qwe')"
   ]
  },
  {
   "cell_type": "markdown",
   "metadata": {},
   "source": [
    "В случае же передачи аргументов функции, звездочка работает, как присваивание с распаковкой. Посмотрим сразу на пример. Взглянем на раннее написанную функцию *concat*."
   ]
  },
  {
   "cell_type": "markdown",
   "metadata": {},
   "source": [
    "<div class=\"alert alert-block alert-success\">\n",
    "<b>Справка:</b> Для вызова исходного кода функций в Jupyter Notebook можно использовать два знака вопроса. Внимание! Это работает только с функциями, написанными на питоне. Некоторые встроенные фукнции написаны на C (питон изначально написан на C), их исходный код с помощью данного метода посмотреть нельзя.\n",
    "</div>"
   ]
  },
  {
   "cell_type": "code",
   "execution_count": 22,
   "metadata": {},
   "outputs": [],
   "source": [
    "concat??"
   ]
  },
  {
   "cell_type": "code",
   "execution_count": 23,
   "metadata": {},
   "outputs": [
    {
     "data": {
      "text/plain": [
       "'310'"
      ]
     },
     "execution_count": 23,
     "metadata": {},
     "output_type": "execute_result"
    }
   ],
   "source": [
    "lst_1 = [3, 10]\n",
    "\n",
    "concat(*lst_1)"
   ]
  },
  {
   "cell_type": "code",
   "execution_count": 24,
   "metadata": {},
   "outputs": [
    {
     "ename": "TypeError",
     "evalue": "concat() takes 2 positional arguments but 3 were given",
     "output_type": "error",
     "traceback": [
      "\u001b[0;31m---------------------------------------------------------------------------\u001b[0m",
      "\u001b[0;31mTypeError\u001b[0m                                 Traceback (most recent call last)",
      "\u001b[0;32m<ipython-input-24-b6981e1b0a46>\u001b[0m in \u001b[0;36m<module>\u001b[0;34m\u001b[0m\n\u001b[1;32m      1\u001b[0m \u001b[0mlst_2\u001b[0m \u001b[0;34m=\u001b[0m \u001b[0;34m[\u001b[0m\u001b[0;36m2\u001b[0m\u001b[0;34m,\u001b[0m \u001b[0;36m30\u001b[0m\u001b[0;34m,\u001b[0m \u001b[0;36m5\u001b[0m\u001b[0;34m]\u001b[0m\u001b[0;34m\u001b[0m\u001b[0;34m\u001b[0m\u001b[0m\n\u001b[1;32m      2\u001b[0m \u001b[0;34m\u001b[0m\u001b[0m\n\u001b[0;32m----> 3\u001b[0;31m \u001b[0mconcat\u001b[0m\u001b[0;34m(\u001b[0m\u001b[0;34m*\u001b[0m\u001b[0mlst_2\u001b[0m\u001b[0;34m)\u001b[0m\u001b[0;34m\u001b[0m\u001b[0;34m\u001b[0m\u001b[0m\n\u001b[0m",
      "\u001b[0;31mTypeError\u001b[0m: concat() takes 2 positional arguments but 3 were given"
     ]
    }
   ],
   "source": [
    "lst_2 = [2, 30, 5]\n",
    "\n",
    "concat(*lst_2)"
   ]
  },
  {
   "cell_type": "markdown",
   "metadata": {},
   "source": [
    "#### $**kwargs$ "
   ]
  },
  {
   "cell_type": "markdown",
   "metadata": {},
   "source": [
    "Конструкция с двумя звездочками похожа на конструкцию с одной, за исключение того, что с помощью двух звездочек записываются лишние **именованные** аргументы в словарь $kwargs$!"
   ]
  },
  {
   "cell_type": "code",
   "execution_count": 25,
   "metadata": {},
   "outputs": [],
   "source": [
    "def func_kwargs(x, y, *args, **kwargs):\n",
    "    print(f'{x} + {y} = {x + y}')\n",
    "    print(f'Тип args - {type(args)}')\n",
    "    print(f'Значение args - {args}')\n",
    "    print(kwargs)"
   ]
  },
  {
   "cell_type": "code",
   "execution_count": 26,
   "metadata": {},
   "outputs": [
    {
     "name": "stdout",
     "output_type": "stream",
     "text": [
      "3 + 6 = 9\n",
      "Тип args - <class 'tuple'>\n",
      "Значение args - (1, 2, 3, 4, 5, 6)\n",
      "{'a': 3, 'b': 4}\n"
     ]
    }
   ],
   "source": [
    "func_kwargs(3, 6, 1, 2, 3, 4, 5, 6, a = 3, b = 4)"
   ]
  },
  {
   "cell_type": "code",
   "execution_count": 27,
   "metadata": {},
   "outputs": [
    {
     "name": "stdout",
     "output_type": "stream",
     "text": [
      "3 + 6 = 9\n",
      "Тип args - <class 'tuple'>\n",
      "Значение args - (1, 2, 3, 4, 5, 6)\n",
      "{}\n"
     ]
    }
   ],
   "source": [
    "func_kwargs(3, 6, 1, 2, 3, 4, 5, 6)"
   ]
  },
  {
   "cell_type": "markdown",
   "metadata": {},
   "source": [
    "**Запомните**, что также как для $args$, $kwargs$ - это лишь самое распространенное название, имя после двух звездочек может быть любым.  "
   ]
  },
  {
   "cell_type": "code",
   "execution_count": 28,
   "metadata": {},
   "outputs": [
    {
     "name": "stdout",
     "output_type": "stream",
     "text": [
      "{'q': 10, 'b': (1, 2, 3)}\n"
     ]
    }
   ],
   "source": [
    "def not_kwargs(**kkk):\n",
    "    print(kkk)\n",
    "    \n",
    "not_kwargs(q = 10, b = (1, 2, 3))"
   ]
  },
  {
   "cell_type": "markdown",
   "metadata": {},
   "source": [
    "Теперь рассмотрим случай с передачей аргументов с помощью конструкций двух звездочек. Здесь работает все аналогично, только уже распаковываться должен словарь."
   ]
  },
  {
   "cell_type": "code",
   "execution_count": 29,
   "metadata": {},
   "outputs": [
    {
     "data": {
      "text/plain": [
       "'310'"
      ]
     },
     "execution_count": 29,
     "metadata": {},
     "output_type": "execute_result"
    }
   ],
   "source": [
    "dct_1 = {'y': 10, 'x': 3}\n",
    "\n",
    "concat(**dct_1)"
   ]
  },
  {
   "cell_type": "code",
   "execution_count": 30,
   "metadata": {},
   "outputs": [
    {
     "ename": "TypeError",
     "evalue": "concat() missing 1 required positional argument: 'x'",
     "output_type": "error",
     "traceback": [
      "\u001b[0;31m---------------------------------------------------------------------------\u001b[0m",
      "\u001b[0;31mTypeError\u001b[0m                                 Traceback (most recent call last)",
      "\u001b[0;32m<ipython-input-30-50b5358372c2>\u001b[0m in \u001b[0;36m<module>\u001b[0;34m\u001b[0m\n\u001b[1;32m      1\u001b[0m \u001b[0mdct_1\u001b[0m \u001b[0;34m=\u001b[0m \u001b[0;34m{\u001b[0m\u001b[0;34m'y'\u001b[0m\u001b[0;34m:\u001b[0m \u001b[0;36m10\u001b[0m\u001b[0;34m}\u001b[0m\u001b[0;34m\u001b[0m\u001b[0;34m\u001b[0m\u001b[0m\n\u001b[1;32m      2\u001b[0m \u001b[0;34m\u001b[0m\u001b[0m\n\u001b[0;32m----> 3\u001b[0;31m \u001b[0mconcat\u001b[0m\u001b[0;34m(\u001b[0m\u001b[0;34m**\u001b[0m\u001b[0mdct_1\u001b[0m\u001b[0;34m)\u001b[0m\u001b[0;34m\u001b[0m\u001b[0;34m\u001b[0m\u001b[0m\n\u001b[0m",
      "\u001b[0;31mTypeError\u001b[0m: concat() missing 1 required positional argument: 'x'"
     ]
    }
   ],
   "source": [
    "dct_1 = {'y': 10}\n",
    "\n",
    "concat(**dct_1)"
   ]
  },
  {
   "cell_type": "markdown",
   "metadata": {},
   "source": [
    "### Лямбда функции (анонимные функции) <a class=\"anchor\" id=\"lambda\"></a> "
   ]
  },
  {
   "cell_type": "markdown",
   "metadata": {},
   "source": [
    "<img src=\"Image_third_lecture/lambda.jpg\" alt=\"Лямбда\" width=\"800\">"
   ]
  },
  {
   "cell_type": "markdown",
   "metadata": {},
   "source": [
    "Лямбда-функция - это анонимная функция (функция без имени), которая состоит из единственной интрукции $return$. Что это значит? Это значит, что все что вы можете записать в $return$ обычной функции, можно записать в лямбда-функцию."
   ]
  },
  {
   "cell_type": "markdown",
   "metadata": {},
   "source": [
    "```\n",
    "lambda аргументы: выражение\n",
    "```"
   ]
  },
  {
   "cell_type": "code",
   "execution_count": 31,
   "metadata": {},
   "outputs": [
    {
     "data": {
      "text/plain": [
       "<function __main__.<lambda>(x)>"
      ]
     },
     "execution_count": 31,
     "metadata": {},
     "output_type": "execute_result"
    }
   ],
   "source": [
    "lambda x: x + 1"
   ]
  },
  {
   "cell_type": "code",
   "execution_count": 32,
   "metadata": {},
   "outputs": [
    {
     "name": "stdout",
     "output_type": "stream",
     "text": [
      "<class 'function'>\n"
     ]
    }
   ],
   "source": [
    "print(type(lambda x: x + 1))"
   ]
  },
  {
   "cell_type": "code",
   "execution_count": 33,
   "metadata": {},
   "outputs": [
    {
     "data": {
      "text/plain": [
       "3"
      ]
     },
     "execution_count": 33,
     "metadata": {},
     "output_type": "execute_result"
    }
   ],
   "source": [
    "(lambda x: x + 1)(2)"
   ]
  },
  {
   "cell_type": "code",
   "execution_count": 34,
   "metadata": {},
   "outputs": [
    {
     "data": {
      "text/plain": [
       "3"
      ]
     },
     "execution_count": 34,
     "metadata": {},
     "output_type": "execute_result"
    }
   ],
   "source": [
    "lambda_func = lambda x: x + 1\n",
    "\n",
    "lambda_func(2)"
   ]
  },
  {
   "cell_type": "markdown",
   "metadata": {},
   "source": [
    "Выше приведенная лямбда-функция эквивалентна следующей обычной функции"
   ]
  },
  {
   "cell_type": "code",
   "execution_count": 35,
   "metadata": {},
   "outputs": [],
   "source": [
    "def func_no_lambda(x):\n",
    "    return x + 1"
   ]
  },
  {
   "cell_type": "markdown",
   "metadata": {},
   "source": [
    "Так зачем вообще нужна лямбда-функция, если ее можно заменить обычной?!"
   ]
  },
  {
   "cell_type": "markdown",
   "metadata": {},
   "source": [
    "Только для краткости и удобства. Фактически вы можете никогда не прибегать к использованию лямбда выражений, но знать о них должны. В каких же местах они удобны?"
   ]
  },
  {
   "cell_type": "markdown",
   "metadata": {},
   "source": [
    "Их удобно использовать в верхнеуровненвых функциях на вход которых в качестве аргумента можно передавать функцию."
   ]
  },
  {
   "cell_type": "markdown",
   "metadata": {},
   "source": [
    "*Пример*"
   ]
  },
  {
   "cell_type": "markdown",
   "metadata": {},
   "source": [
    "В питоне есть очень удобный метод $sorted()$, который сортирует последовательности."
   ]
  },
  {
   "cell_type": "code",
   "execution_count": 36,
   "metadata": {},
   "outputs": [
    {
     "data": {
      "text/plain": [
       "[3, 4, 7, 1, 8, 5, 6]"
      ]
     },
     "execution_count": 36,
     "metadata": {},
     "output_type": "execute_result"
    }
   ],
   "source": [
    "lst_example = [3, 4, 7, 1, 8, 5, 6]\n",
    "lst_example"
   ]
  },
  {
   "cell_type": "code",
   "execution_count": 37,
   "metadata": {},
   "outputs": [
    {
     "data": {
      "text/plain": [
       "[1, 3, 4, 5, 6, 7, 8]"
      ]
     },
     "execution_count": 37,
     "metadata": {},
     "output_type": "execute_result"
    }
   ],
   "source": [
    "sorted(lst_example)"
   ]
  },
  {
   "cell_type": "code",
   "execution_count": 38,
   "metadata": {},
   "outputs": [
    {
     "data": {
      "text/plain": [
       "[8, 7, 6, 5, 4, 3, 1]"
      ]
     },
     "execution_count": 38,
     "metadata": {},
     "output_type": "execute_result"
    }
   ],
   "source": [
    "sorted(lst_example, reverse=True)"
   ]
  },
  {
   "cell_type": "markdown",
   "metadata": {},
   "source": [
    "Но допустим мы хотим сортировать словарь по значениям."
   ]
  },
  {
   "cell_type": "code",
   "execution_count": 39,
   "metadata": {},
   "outputs": [
    {
     "data": {
      "text/plain": [
       "{'a': [30, 100, 2], 'b': [965, 221, 25], 'c': [1, 24, 1000], 'd': [3, 10, 11]}"
      ]
     },
     "execution_count": 39,
     "metadata": {},
     "output_type": "execute_result"
    }
   ],
   "source": [
    "dct_example = {'a': [30, 100, 2],\n",
    "               'b': [965, 221, 25],\n",
    "               'c': [1, 24, 1000],\n",
    "               'd': [3, 10, 11]}\n",
    "\n",
    "dct_example"
   ]
  },
  {
   "cell_type": "markdown",
   "metadata": {},
   "source": [
    "По-умолчанию метод $sorted()$ сортирует словарь по ключам"
   ]
  },
  {
   "cell_type": "code",
   "execution_count": 40,
   "metadata": {},
   "outputs": [
    {
     "data": {
      "text/plain": [
       "['a', 'b', 'c', 'd']"
      ]
     },
     "execution_count": 40,
     "metadata": {},
     "output_type": "execute_result"
    }
   ],
   "source": [
    "sorted(dct_example)"
   ]
  },
  {
   "cell_type": "markdown",
   "metadata": {},
   "source": [
    "Посмотрим документацию метода"
   ]
  },
  {
   "cell_type": "code",
   "execution_count": 41,
   "metadata": {},
   "outputs": [],
   "source": [
    "sorted?"
   ]
  },
  {
   "cell_type": "markdown",
   "metadata": {},
   "source": [
    "Как видите, у данного метода есть аргумент $key$, который принимает кастомизированную функцию. По этой принимаемой функции будет производиться сортировка."
   ]
  },
  {
   "cell_type": "code",
   "execution_count": 42,
   "metadata": {},
   "outputs": [
    {
     "data": {
      "text/plain": [
       "['d', 'a', 'c', 'b']"
      ]
     },
     "execution_count": 42,
     "metadata": {},
     "output_type": "execute_result"
    }
   ],
   "source": [
    "sorted(dct_example, key=lambda dct_key: sum(dct_example[dct_key]))"
   ]
  },
  {
   "cell_type": "markdown",
   "metadata": {},
   "source": [
    "Теперь давайте отсортируем по минимальному значению."
   ]
  },
  {
   "cell_type": "code",
   "execution_count": 43,
   "metadata": {},
   "outputs": [
    {
     "data": {
      "text/plain": [
       "['c', 'a', 'd', 'b']"
      ]
     },
     "execution_count": 43,
     "metadata": {},
     "output_type": "execute_result"
    }
   ],
   "source": [
    "sorted(dct_example, key=lambda dct_key: min(dct_example[dct_key]))"
   ]
  },
  {
   "cell_type": "markdown",
   "metadata": {},
   "source": [
    "Чтобы же сделать тоже самое без помощи лямбда-функций, необходимо сделать немного больше действий"
   ]
  },
  {
   "cell_type": "code",
   "execution_count": 44,
   "metadata": {},
   "outputs": [
    {
     "data": {
      "text/plain": [
       "['c', 'a', 'd', 'b']"
      ]
     },
     "execution_count": 44,
     "metadata": {},
     "output_type": "execute_result"
    }
   ],
   "source": [
    "from functools import partial\n",
    "\n",
    "def min_func(dct_key, dct):\n",
    "    return min(dct[dct_key])\n",
    "\n",
    "partial_sort = partial(min_func, dct=dct_example)\n",
    "\n",
    "sorted(dct_example, key=partial_sort)"
   ]
  },
  {
   "cell_type": "markdown",
   "metadata": {},
   "source": [
    "Функция $partial$ из модуля $functools$ делает следующее: она выполняется, как функция $min func$, но заранее передает в функцию аргументы."
   ]
  },
  {
   "cell_type": "code",
   "execution_count": 45,
   "metadata": {},
   "outputs": [],
   "source": [
    "partial?"
   ]
  },
  {
   "cell_type": "code",
   "execution_count": 46,
   "metadata": {},
   "outputs": [
    {
     "data": {
      "text/plain": [
       "functools.partial(<function min_func at 0x7fb2f03c0598>, dct={'a': [30, 100, 2], 'b': [965, 221, 25], 'c': [1, 24, 1000], 'd': [3, 10, 11]})"
      ]
     },
     "execution_count": 46,
     "metadata": {},
     "output_type": "execute_result"
    }
   ],
   "source": [
    "partial(min_func, dct=dct_example)"
   ]
  },
  {
   "cell_type": "code",
   "execution_count": 47,
   "metadata": {},
   "outputs": [
    {
     "data": {
      "text/plain": [
       "['c', 'a', 'd', 'b']"
      ]
     },
     "execution_count": 47,
     "metadata": {},
     "output_type": "execute_result"
    }
   ],
   "source": [
    "from functools import partial\n",
    "\n",
    "def min_func(dct_key, dct):\n",
    "    return min(dct[dct_key])\n",
    "\n",
    "partial_sort = partial(min_func, dct=dct_example)\n",
    "\n",
    "sorted(dct_example, key=partial_sort)"
   ]
  },
  {
   "cell_type": "markdown",
   "metadata": {},
   "source": [
    "Разберем, что здесь происходит.\n",
    "Строчка \n",
    "\n",
    "partial_sort = partial(min_func, dct=dct_example) \n",
    "\n",
    "эквивалентна"
   ]
  },
  {
   "cell_type": "code",
   "execution_count": 48,
   "metadata": {},
   "outputs": [],
   "source": [
    "def partial_sort(dct_key, dct = dct_example):\n",
    "    return min_func(dct_key, dct)"
   ]
  },
  {
   "cell_type": "markdown",
   "metadata": {},
   "source": [
    "При выполнении метод $sorted$ по порядку передает на вход функции ключи словаря."
   ]
  },
  {
   "cell_type": "code",
   "execution_count": 49,
   "metadata": {},
   "outputs": [
    {
     "data": {
      "text/plain": [
       "['c', 'a', 'd', 'b']"
      ]
     },
     "execution_count": 49,
     "metadata": {},
     "output_type": "execute_result"
    }
   ],
   "source": [
    "sorted(dct_example, key=partial_sort)"
   ]
  },
  {
   "cell_type": "markdown",
   "metadata": {},
   "source": [
    "*Еще один пример на работу функции sorted*"
   ]
  },
  {
   "cell_type": "code",
   "execution_count": 50,
   "metadata": {},
   "outputs": [],
   "source": [
    "lst_example_2 = [[1,2,3], [1,2,0], [1,2,4]]"
   ]
  },
  {
   "cell_type": "code",
   "execution_count": 51,
   "metadata": {},
   "outputs": [
    {
     "data": {
      "text/plain": [
       "[[1, 2, 0], [1, 2, 3], [1, 2, 4]]"
      ]
     },
     "execution_count": 51,
     "metadata": {},
     "output_type": "execute_result"
    }
   ],
   "source": [
    "sorted(lst_example_2, key=sum)"
   ]
  },
  {
   "cell_type": "markdown",
   "metadata": {},
   "source": [
    "### Обработка исключений <a class=\"anchor\" id=\"errors\"></a>"
   ]
  },
  {
   "cell_type": "markdown",
   "metadata": {},
   "source": [
    "<img src=\"Image_third_lecture/errors.png\" alt=\"Исключения\" width=\"600\">"
   ]
  },
  {
   "cell_type": "markdown",
   "metadata": {},
   "source": [
    "Иксключения организованы в классовую иерархию. Ниже представлена полная иерархия исключений (честно стыренная из интернета, ссылка на статью - https://code.tutsplus.com/ru/tutorials/professional-error-handling-with-python--cms-25950)"
   ]
  },
  {
   "cell_type": "markdown",
   "metadata": {},
   "source": [
    "BaseException\n",
    " \n",
    " +-- SystemExit\n",
    " \n",
    " +-- KeyboardInterrupt\n",
    " \n",
    " +-- GeneratorExit\n",
    " \n",
    " +-- Exception\n",
    " \n",
    "      +-- StopIteration\n",
    " \n",
    "      +-- StandardError\n",
    " \n",
    "      |    +-- BufferError\n",
    " \n",
    "      |    +-- ArithmeticError\n",
    " \n",
    "      |    |    +-- FloatingPointError\n",
    " \n",
    "      |    |    +-- OverflowError\n",
    " \n",
    "      |    |    +-- ZeroDivisionError\n",
    " \n",
    "      |    +-- AssertionError\n",
    " \n",
    "      |    +-- AttributeError\n",
    " \n",
    "      |    +-- EnvironmentError\n",
    " \n",
    "      |    |    +-- IOError\n",
    " \n",
    "      |    |    +-- OSError\n",
    " \n",
    "      |    |         +-- WindowsError (Windows)\n",
    " \n",
    "      |    |         +-- VMSError (VMS)\n",
    " \n",
    "      |    +-- EOFError\n",
    " \n",
    "      |    +-- ImportError\n",
    " \n",
    "      |    +-- LookupError\n",
    " \n",
    "      |    |    +-- IndexError\n",
    " \n",
    "      |    |    +-- KeyError\n",
    " \n",
    "      |    +-- MemoryError\n",
    " \n",
    "      |    +-- NameError\n",
    " \n",
    "      |    |    +-- UnboundLocalError\n",
    " \n",
    "      |    +-- ReferenceError\n",
    " \n",
    "      |    +-- RuntimeError\n",
    " \n",
    "      |    |    +-- NotImplementedError\n",
    " \n",
    "      |    +-- SyntaxError\n",
    " \n",
    "      |    |    +-- IndentationError\n",
    " \n",
    "      |    |         +-- TabError\n",
    " \n",
    "      |    +-- SystemError\n",
    " \n",
    "      |    +-- TypeError\n",
    " \n",
    "      |    +-- ValueError\n",
    " \n",
    "      |         +-- UnicodeError\n",
    " \n",
    "      |              +-- UnicodeDecodeError\n",
    " \n",
    "      |              +-- UnicodeEncodeError\n",
    " \n",
    "      |              +-- UnicodeTranslateError\n",
    " \n",
    "      +-- Warning\n",
    " \n",
    "           +-- DeprecationWarning\n",
    " \n",
    "           +-- PendingDeprecationWarning\n",
    " \n",
    "           +-- RuntimeWarning\n",
    " \n",
    "           +-- SyntaxWarning\n",
    " \n",
    "           +-- UserWarning\n",
    " \n",
    "           +-- FutureWarning\n",
    " \n",
    "  +-- ImportWarning\n",
    " \n",
    "  +-- UnicodeWarning\n",
    " \n",
    "  +-- BytesWarning"
   ]
  },
  {
   "cell_type": "markdown",
   "metadata": {},
   "source": [
    "Иключения можно обрабатывать, что это значит? Это значит, что вы можете предположить, что при выпадении определенного исключения ваш код не будет падать, а будет выполнять те действия, которые вы заложите. Сделать это можно с помощью выражения $try$ - $except$"
   ]
  },
  {
   "cell_type": "markdown",
   "metadata": {},
   "source": [
    "```\n",
    "try:\n",
    "    инструкции\n",
    "except Исключение:\n",
    "    инструкции\n",
    "except Исключение:\n",
    "    инструкции\n",
    "...\n",
    "except Исключение:\n",
    "    инструкции\n",
    "[else:\n",
    "    инструкции]\n",
    "```"
   ]
  },
  {
   "cell_type": "markdown",
   "metadata": {},
   "source": [
    "В блоке $try$ вы пишите свой обычный код в котором вы знаете могут возникнуть определенные исключения. Если код в блоке $try$ выполняется без ошибок и без принудительного прерывания (return, break, continue), то выполняется **необязательный** блок $else$. Блоки $except$ называются обработчиком исключения. После ключевого слова $except$ пишется имя исключения, которое вы хотите обработать, а дальше код, который должен выполняться, если исключение возникло."
   ]
  },
  {
   "cell_type": "code",
   "execution_count": 62,
   "metadata": {},
   "outputs": [],
   "source": [
    "lst_example_3 = [3, 4, 6, 7, 0, 10]"
   ]
  },
  {
   "cell_type": "code",
   "execution_count": 63,
   "metadata": {},
   "outputs": [
    {
     "name": "stdout",
     "output_type": "stream",
     "text": [
      "3 / 3 = 1.0\n",
      "4 / 4 = 1.0\n",
      "6 / 6 = 1.0\n",
      "7 / 7 = 1.0\n"
     ]
    },
    {
     "ename": "ZeroDivisionError",
     "evalue": "division by zero",
     "output_type": "error",
     "traceback": [
      "\u001b[0;31m---------------------------------------------------------------------------\u001b[0m",
      "\u001b[0;31mZeroDivisionError\u001b[0m                         Traceback (most recent call last)",
      "\u001b[0;32m<ipython-input-63-01da65aa2e40>\u001b[0m in \u001b[0;36m<module>\u001b[0;34m\u001b[0m\n\u001b[1;32m      1\u001b[0m \u001b[0;32mfor\u001b[0m \u001b[0mnumb\u001b[0m \u001b[0;32min\u001b[0m \u001b[0mlst_example_3\u001b[0m\u001b[0;34m:\u001b[0m\u001b[0;34m\u001b[0m\u001b[0;34m\u001b[0m\u001b[0m\n\u001b[0;32m----> 2\u001b[0;31m     \u001b[0mprint\u001b[0m\u001b[0;34m(\u001b[0m\u001b[0;34mf'{numb} / {numb} = {numb / numb}'\u001b[0m\u001b[0;34m)\u001b[0m\u001b[0;34m\u001b[0m\u001b[0;34m\u001b[0m\u001b[0m\n\u001b[0m\u001b[1;32m      3\u001b[0m \u001b[0;34m\u001b[0m\u001b[0m\n\u001b[1;32m      4\u001b[0m \u001b[0mprint\u001b[0m\u001b[0;34m(\u001b[0m\u001b[0mlst_example_3\u001b[0m\u001b[0;34m)\u001b[0m\u001b[0;34m\u001b[0m\u001b[0;34m\u001b[0m\u001b[0m\n",
      "\u001b[0;31mZeroDivisionError\u001b[0m: division by zero"
     ]
    }
   ],
   "source": [
    "for numb in lst_example_3:\n",
    "    print(f'{numb} / {numb} = {numb / numb}')\n",
    "    \n",
    "print(lst_example_3)"
   ]
  },
  {
   "cell_type": "code",
   "execution_count": 65,
   "metadata": {},
   "outputs": [
    {
     "name": "stdout",
     "output_type": "stream",
     "text": [
      "3 / 3 = 1.0\n",
      "4 / 4 = 1.0\n",
      "6 / 6 = 1.0\n",
      "7 / 7 = 1.0\n",
      "0 / 0 = Воу-воу-воу, деление на ноль - ПАЛЕХЧЕ!\n"
     ]
    }
   ],
   "source": [
    "try:\n",
    "    for numb in lst_example_3:\n",
    "        print(f'{numb} / {numb} = {numb / numb}')\n",
    "    \n",
    "except ZeroDivisionError:\n",
    "    print(f'{numb} / {numb} = Воу-воу-воу, деление на ноль - ПАЛЕХЧЕ!')"
   ]
  },
  {
   "cell_type": "markdown",
   "metadata": {},
   "source": [
    "<div class=\"alert alert-block alert-danger\">\n",
    "<b>АЛАРМ:</b> Запомните, наверное чуть ли не самое важное в программировании - это чтение ошибок. В Python очень хорошая система выдачи и описания исключений. Перед тем, как всматриваться в код, ВНИМАТЕЛЬНО прочтите сообщение об ошибке.\n",
    "</div>"
   ]
  },
  {
   "cell_type": "markdown",
   "metadata": {},
   "source": [
    "<img src=\"Image_third_lecture/after_python.png\" alt=\"После Python\" width=\"700\">"
   ]
  }
 ],
 "metadata": {
  "kernelspec": {
   "display_name": "Python 3",
   "language": "python",
   "name": "python3"
  },
  "language_info": {
   "codemirror_mode": {
    "name": "ipython",
    "version": 3
   },
   "file_extension": ".py",
   "mimetype": "text/x-python",
   "name": "python",
   "nbconvert_exporter": "python",
   "pygments_lexer": "ipython3",
   "version": "3.6.8"
  }
 },
 "nbformat": 4,
 "nbformat_minor": 2
}
