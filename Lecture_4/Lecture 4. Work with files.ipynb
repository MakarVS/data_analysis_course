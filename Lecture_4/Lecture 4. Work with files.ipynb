{
 "cells": [
  {
   "cell_type": "markdown",
   "metadata": {},
   "source": [
    "<table>\n",
    "<tr style=\"background:transparent\">\n",
    " <td><font size=\"7\" face=\"serif\"><b>Курс анализа данных на Python</b></font></td>   \n",
    " <td><img src=\"Image_fourth_lecture/Unknown.png\" alt=\"Змейка\" width=\"200\" height=\"100\"></td>\n",
    "</tr>\n",
    "</table>"
   ]
  },
  {
   "cell_type": "markdown",
   "metadata": {},
   "source": [
    "<img src=\"Image_fourth_lecture/logs.jpg\" alt=\"Логи\" width=\"800\">"
   ]
  },
  {
   "cell_type": "markdown",
   "metadata": {},
   "source": [
    "<center><font size=\"6\" face=\"serif\"><b>Работа с файлами в Python</b></font></center>"
   ]
  },
  {
   "cell_type": "markdown",
   "metadata": {},
   "source": [
    "## Навигация"
   ]
  },
  {
   "cell_type": "markdown",
   "metadata": {},
   "source": [
    "[Тестовые файлы](#text)\n",
    "\n",
    "[JSON файлы](#json)\n",
    "\n",
    "[XML файлы](#xml)"
   ]
  },
  {
   "cell_type": "markdown",
   "metadata": {},
   "source": [
    "### Текстовые файлы <a class=\"anchor\" id=\"text\"></a>"
   ]
  },
  {
   "cell_type": "markdown",
   "metadata": {},
   "source": [
    "<img src=\"Image_fourth_lecture/txt.jpg\" alt=\"XML\" width=\"500\">"
   ]
  },
  {
   "cell_type": "markdown",
   "metadata": {},
   "source": [
    "Перед работой с текстовым файлом его необходимо открыть с помощью конструкции **open**. Конструкция **open** создает специальный файловый объект, на вход принимает ОБЯЗАТЕЛЬНО путь к файлу, режим работы с файлом (необязательно, по-умолчанию чтение), кодировку и другие необязательные именованные аргументы."
   ]
  },
  {
   "cell_type": "code",
   "execution_count": 58,
   "metadata": {},
   "outputs": [],
   "source": [
    "open?"
   ]
  },
  {
   "cell_type": "markdown",
   "metadata": {},
   "source": [
    "Ниже прердставлены режимы методы **open**"
   ]
  },
  {
   "cell_type": "markdown",
   "metadata": {},
   "source": [
    "Режим\t|  Обозначение\n",
    ":-------|:--------------\n",
    "'r'\t| открытие на чтение (является значением по умолчанию).\n",
    "'w'\t| открытие на запись, содержимое файла удаляется, если файла не существует, создается новый.\n",
    "'x'\t| открытие на запись, если файла не существует, иначе исключение.\n",
    "'a'\t| открытие на дозапись, информация добавляется в конец файла.\n",
    "'b'\t| открытие в двоичном режиме.\n",
    "'t'\t| открытие в текстовом режиме (является значением по умолчанию).\n",
    "'+'\t| открытие на чтение и запись"
   ]
  },
  {
   "cell_type": "code",
   "execution_count": 61,
   "metadata": {},
   "outputs": [],
   "source": [
    "f = open('Materials_fourth_lecture/txt/example_text_read.txt')"
   ]
  },
  {
   "cell_type": "code",
   "execution_count": 62,
   "metadata": {},
   "outputs": [
    {
     "name": "stdout",
     "output_type": "stream",
     "text": [
      "<_io.TextIOWrapper name='Materials_fourth_lecture/txt/example_text_read.txt' mode='r' encoding='UTF-8'>\n",
      "<class '_io.TextIOWrapper'>\n"
     ]
    }
   ],
   "source": [
    "print(f)\n",
    "print(type(f))"
   ]
  },
  {
   "cell_type": "markdown",
   "metadata": {},
   "source": [
    "Рассмотрим методы, работающие на чтение. "
   ]
  },
  {
   "cell_type": "markdown",
   "metadata": {},
   "source": [
    "<div class=\"alert alert-block alert-danger\">\n",
    "<b>АЛАРМ:</b> При чтении текстового файла все его содержимое является одной СТРОКОЙ!\n",
    "</div>"
   ]
  },
  {
   "cell_type": "markdown",
   "metadata": {},
   "source": [
    "Метод **read** читает то количество строковых элементов, которое вы передали методу в качестве аргумента. При отсутствии аргумента читает весь текст. Как только вы прочитали n символов, Python запоминает где вы остановились и следующие команды на чтение будут позиционироваться с этого места."
   ]
  },
  {
   "cell_type": "code",
   "execution_count": 63,
   "metadata": {},
   "outputs": [
    {
     "data": {
      "text/plain": [
       "'Hel'"
      ]
     },
     "execution_count": 63,
     "metadata": {},
     "output_type": "execute_result"
    }
   ],
   "source": [
    "f.read(3)"
   ]
  },
  {
   "cell_type": "code",
   "execution_count": 64,
   "metadata": {},
   "outputs": [
    {
     "data": {
      "text/plain": [
       "'lo '"
      ]
     },
     "execution_count": 64,
     "metadata": {},
     "output_type": "execute_result"
    }
   ],
   "source": [
    "f.read(3)"
   ]
  },
  {
   "cell_type": "code",
   "execution_count": 65,
   "metadata": {},
   "outputs": [
    {
     "data": {
      "text/plain": [
       "'there!!\\n\\nBla-bla-bla.\\nMore bla-bla-bla.\\n\\nThe End!\\n\\n'"
      ]
     },
     "execution_count": 65,
     "metadata": {},
     "output_type": "execute_result"
    }
   ],
   "source": [
    "f.read()"
   ]
  },
  {
   "cell_type": "markdown",
   "metadata": {},
   "source": [
    "Как только вы закончили работать с файлом его необхлодимо закрыть, иначе он будет продолжать занимать место в оперативной памяти."
   ]
  },
  {
   "cell_type": "code",
   "execution_count": 67,
   "metadata": {},
   "outputs": [],
   "source": [
    "f.close()"
   ]
  },
  {
   "cell_type": "markdown",
   "metadata": {},
   "source": [
    "Метод **readline** читает и возвращает одну текстовую строку до достижения символа конца строки $\\n$. В данный метод можно также передавать количество элементов, которые вы хотите прочитать из этой строки."
   ]
  },
  {
   "cell_type": "code",
   "execution_count": 69,
   "metadata": {},
   "outputs": [
    {
     "data": {
      "text/plain": [
       "'Hello there!!\\n'"
      ]
     },
     "execution_count": 69,
     "metadata": {},
     "output_type": "execute_result"
    }
   ],
   "source": [
    "f = open('Materials_fourth_lecture/txt/example_text_read.txt')\n",
    "\n",
    "f.readline()"
   ]
  },
  {
   "cell_type": "code",
   "execution_count": 70,
   "metadata": {},
   "outputs": [
    {
     "data": {
      "text/plain": [
       "'\\n'"
      ]
     },
     "execution_count": 70,
     "metadata": {},
     "output_type": "execute_result"
    }
   ],
   "source": [
    "f.readline()"
   ]
  },
  {
   "cell_type": "code",
   "execution_count": 71,
   "metadata": {},
   "outputs": [
    {
     "data": {
      "text/plain": [
       "'Bla-'"
      ]
     },
     "execution_count": 71,
     "metadata": {},
     "output_type": "execute_result"
    }
   ],
   "source": [
    "f.readline(4)"
   ]
  },
  {
   "cell_type": "code",
   "execution_count": 72,
   "metadata": {},
   "outputs": [],
   "source": [
    "f.close()"
   ]
  },
  {
   "cell_type": "markdown",
   "metadata": {},
   "source": [
    "Метод **readlines** читает и возвращает список всех строк, причем каждая строка кончается символом конца строки $\\n$. В данный метод можно также передавать количество элементов, которые вы хотите прочитать из этой строки."
   ]
  },
  {
   "cell_type": "code",
   "execution_count": 73,
   "metadata": {},
   "outputs": [
    {
     "data": {
      "text/plain": [
       "['Hello there!!\\n',\n",
       " '\\n',\n",
       " 'Bla-bla-bla.\\n',\n",
       " 'More bla-bla-bla.\\n',\n",
       " '\\n',\n",
       " 'The End!\\n',\n",
       " '\\n']"
      ]
     },
     "execution_count": 73,
     "metadata": {},
     "output_type": "execute_result"
    }
   ],
   "source": [
    "f = open('Materials_fourth_lecture/txt/example_text_read.txt')\n",
    "\n",
    "f.readlines()"
   ]
  },
  {
   "cell_type": "markdown",
   "metadata": {},
   "source": [
    "Попробуем теперь создать файл и записать что-нибудь в него."
   ]
  },
  {
   "cell_type": "code",
   "execution_count": 74,
   "metadata": {},
   "outputs": [],
   "source": [
    "text_1 = ['Пам-пам-пам\\n', 'Это запись в файл\\n', '\\n', 'Конец']"
   ]
  },
  {
   "cell_type": "markdown",
   "metadata": {},
   "source": [
    "Открываем файл на запись."
   ]
  },
  {
   "cell_type": "code",
   "execution_count": 75,
   "metadata": {},
   "outputs": [],
   "source": [
    "f = open('Materials_fourth_lecture/txt/example_text_write.txt', 'w')"
   ]
  },
  {
   "cell_type": "markdown",
   "metadata": {},
   "source": [
    "<div class=\"alert alert-block alert-danger\">\n",
    "<b>АЛАРМ:</b> При использовании режима w файл всегда создается заново! Учтите это! Если его не существует, он создастся. Если существует, то перезапишется. Если вы хотите ДОЗАПИСАТЬ что-то в файл, используйте режим a.\n",
    "</div>"
   ]
  },
  {
   "cell_type": "markdown",
   "metadata": {},
   "source": [
    "Метод **write** записывает в файл строку."
   ]
  },
  {
   "cell_type": "code",
   "execution_count": 76,
   "metadata": {},
   "outputs": [],
   "source": [
    "for string in text_1:\n",
    "    f.write(string)"
   ]
  },
  {
   "cell_type": "code",
   "execution_count": 77,
   "metadata": {},
   "outputs": [],
   "source": [
    "f.close()"
   ]
  },
  {
   "cell_type": "markdown",
   "metadata": {},
   "source": [
    "Выше приведенной конструкции с циклом аналогичен метод **writelines**. Он принимает на вход список строк и записывает их в файл."
   ]
  },
  {
   "cell_type": "code",
   "execution_count": 80,
   "metadata": {},
   "outputs": [],
   "source": [
    "text_2 = ['Тум-турум\\n', 'Это запись в файл по-другому\\n', '\\n', 'Конец']"
   ]
  },
  {
   "cell_type": "code",
   "execution_count": 81,
   "metadata": {},
   "outputs": [],
   "source": [
    "f = open('Materials_fourth_lecture/txt/example_text_write.txt', 'w')\n",
    "\n",
    "f.writelines(text_2)\n",
    "\n",
    "f.close()"
   ]
  },
  {
   "cell_type": "markdown",
   "metadata": {},
   "source": [
    "Обычно работа с файлами осуществляется с помощью так называемого контекстного менеджера. Если коротко, то одна из фунциональностей (и главная для работы с файлами) заключается в выполнении каких либо действий до входа в блок и после выхода из него."
   ]
  },
  {
   "cell_type": "markdown",
   "metadata": {},
   "source": [
    "Синтаксис контекстного менеджера начинается с ключевого слова **with**. В работе с файлами он используется для того, чтобы не закрывать файл вручную. Вся работа с файлом происходит внутри блока **with**, по выходу из блока работа с файлом прекращается и он автоматически закрывается."
   ]
  },
  {
   "cell_type": "code",
   "execution_count": 82,
   "metadata": {},
   "outputs": [],
   "source": [
    "text_3 = ['А это запись с помощью контекстного менеджера\\n', '\\n', 'Конец']"
   ]
  },
  {
   "cell_type": "code",
   "execution_count": 83,
   "metadata": {},
   "outputs": [],
   "source": [
    "with open('Materials_fourth_lecture/txt/example_text_write.txt', 'w') as file:\n",
    "    file.writelines(text_3)"
   ]
  },
  {
   "cell_type": "markdown",
   "metadata": {},
   "source": [
    "### Задача "
   ]
  },
  {
   "cell_type": "markdown",
   "metadata": {},
   "source": [
    "Написать функцию, которая принимает на вход имя файла и список строк, которые нужно записать в файл. Функция должна проверять существует ли файл, и если существует, записывать строки в конец файла. Если файл не существует, то создать файл и записать в него строки из списка."
   ]
  },
  {
   "cell_type": "code",
   "execution_count": 79,
   "metadata": {},
   "outputs": [],
   "source": [
    "def write_to_file(file, list_of_string):\n",
    "    pass"
   ]
  },
  {
   "cell_type": "markdown",
   "metadata": {},
   "source": [
    "### JSON файлы <a class=\"anchor\" id=\"json\"></a>"
   ]
  },
  {
   "cell_type": "markdown",
   "metadata": {},
   "source": [
    "<img src=\"Image_fourth_lecture/json.png\" alt=\"XML\" width=\"600\">"
   ]
  },
  {
   "cell_type": "markdown",
   "metadata": {},
   "source": [
    "**JSON (JavaScript Object Notation)** - простой формат обмена данными, основанный на подмножестве синтаксиса JavaScript. В Python модуль **json** позволяет кодировать и декодировать данные в удобном формате."
   ]
  },
  {
   "cell_type": "markdown",
   "metadata": {},
   "source": [
    "Данные в формате JSON (RFC 4627) представляют собой:\n",
    "\n",
    "- объекты { ... } или\n",
    "- массивы [ ... ] или\n",
    "- значения одного из типов:\n",
    "    + строки в двойных кавычках,\n",
    "    + число,\n",
    "    + логическое значение true/false,\n",
    "    + null."
   ]
  },
  {
   "cell_type": "markdown",
   "metadata": {},
   "source": [
    "#### Пример\n",
    "\n",
    "{\n",
    "```\n",
    "\"firstName\": \"Иван\",  \n",
    "\"lastName\": \"Иванов\",  \n",
    "\"address\": {\n",
    "```\n",
    "       \"streetAddress\": \"Московское ш., 101, кв.101\",\n",
    "       \"city\": \"Ленинград\",\n",
    "       \"postalCode\": 101101\n",
    "   ```\n",
    "   },\n",
    "\"phoneNumbers\": [\n",
    "   \"812 123-1234\",\n",
    "   \"916 123-4567\"\n",
    "]\n",
    "```\n",
    "}"
   ]
  },
  {
   "cell_type": "code",
   "execution_count": 84,
   "metadata": {},
   "outputs": [],
   "source": [
    "example_dict = {'VIN': 123456789,\n",
    "                'Name': 'Ivan',\n",
    "                'Accidents': {'Accident_1': {'Reason': 'DTP',\n",
    "                                             'Date': '01-01-1999'},\n",
    "                              'Accident_2': {'Reason': 'Driver-idiot',\n",
    "                                             'Date': '01-01-2000'}}}"
   ]
  },
  {
   "cell_type": "code",
   "execution_count": 85,
   "metadata": {},
   "outputs": [],
   "source": [
    "import json"
   ]
  },
  {
   "cell_type": "markdown",
   "metadata": {},
   "source": [
    "Для начала создадим JSON файл. Для записи используется функция **dump(value, fileobj, ...)**, которая записывает сериализованное в формате JSON значение объекта  **value** в файловый объект **fileobj**. Данная функция имеет много необязательный именнованых агрументов, которые вы можете посмотреть в документации."
   ]
  },
  {
   "cell_type": "code",
   "execution_count": 86,
   "metadata": {},
   "outputs": [],
   "source": [
    "json.dump?"
   ]
  },
  {
   "cell_type": "code",
   "execution_count": 87,
   "metadata": {},
   "outputs": [],
   "source": [
    "with open('Materials_fourth_lecture/json/example_1.json', 'w') as file:\n",
    "    json.dump(example_dict, file)"
   ]
  },
  {
   "cell_type": "markdown",
   "metadata": {},
   "source": [
    "Функция **dumps(value, ...)** возвращает строку, которую бы функция **dump** записиала в файл. **dumps** принимает все теже агрументы, как и функция **dump**, кроме файлового объекта (так как не записывает, а только возвращает JSON представление)."
   ]
  },
  {
   "cell_type": "code",
   "execution_count": 88,
   "metadata": {},
   "outputs": [],
   "source": [
    "json_data = json.dumps(example_dict)"
   ]
  },
  {
   "cell_type": "code",
   "execution_count": 89,
   "metadata": {},
   "outputs": [
    {
     "data": {
      "text/plain": [
       "'{\"VIN\": 123456789, \"Name\": \"Ivan\", \"Accidents\": {\"Accident_1\": {\"Reason\": \"DTP\", \"Date\": \"01-01-1999\"}, \"Accident_2\": {\"Reason\": \"Driver-idiot\", \"Date\": \"01-01-2000\"}}}'"
      ]
     },
     "execution_count": 89,
     "metadata": {},
     "output_type": "execute_result"
    }
   ],
   "source": [
    "json_data"
   ]
  },
  {
   "cell_type": "markdown",
   "metadata": {},
   "source": [
    "<div class=\"alert alert-block alert-danger\">\n",
    "<b>АЛАРМ:</b> Ключи в парах ключ/значение в JSON всегда являются строками. Когда словарь конвертируется в JSON, все ключи словаря преобразовываются в строки. В результате этого, если словарь сначала преобразовать в JSON, а потом обратно в словарь, то можно не получить словарь, идентичный исходному."
   ]
  },
  {
   "cell_type": "markdown",
   "metadata": {},
   "source": [
    "#### Декодирование\n",
    "\n",
    "JSON\t|  Python\n",
    ":-------|:----------\n",
    "object\t|dict\n",
    "array\t|list\n",
    "string\t|str\n",
    "number (int)\t|int\n",
    "number (real)\t|float\n",
    "true\t|True\n",
    "false\t|False\n",
    "null\t|None"
   ]
  },
  {
   "cell_type": "markdown",
   "metadata": {},
   "source": [
    "#### Кодирование\n",
    "\n",
    "Python\t| JSON\n",
    ":------------|:----------\n",
    "dict\t|object\n",
    "list, tuple\t|array\n",
    "str\t|string\n",
    "int, float\t|number\n",
    "True\t|true\n",
    "False\t|false\n",
    "None\t|null"
   ]
  },
  {
   "cell_type": "markdown",
   "metadata": {},
   "source": [
    "За чтение из JSON файла отвечает функция **load(fileobj, ...)**. Данная функция также имеет большое количество именнованных аргументов (см. документацию)."
   ]
  },
  {
   "cell_type": "code",
   "execution_count": 90,
   "metadata": {},
   "outputs": [],
   "source": [
    "json.load?"
   ]
  },
  {
   "cell_type": "code",
   "execution_count": 91,
   "metadata": {},
   "outputs": [],
   "source": [
    "with open('Materials_fourth_lecture/json/example_1.json') as file:\n",
    "    read_dict = json.load(file)"
   ]
  },
  {
   "cell_type": "code",
   "execution_count": 92,
   "metadata": {},
   "outputs": [
    {
     "data": {
      "text/plain": [
       "{'VIN': 123456789,\n",
       " 'Name': 'Ivan',\n",
       " 'Accidents': {'Accident_1': {'Reason': 'DTP', 'Date': '01-01-1999'},\n",
       "  'Accident_2': {'Reason': 'Driver-idiot', 'Date': '01-01-2000'}}}"
      ]
     },
     "execution_count": 92,
     "metadata": {},
     "output_type": "execute_result"
    }
   ],
   "source": [
    "read_dict"
   ]
  },
  {
   "cell_type": "markdown",
   "metadata": {},
   "source": [
    "Если же мы хотим десериализовать JSON-строку, полученную с помощью функции **dumps**, можно использовать функцию **loads**. "
   ]
  },
  {
   "cell_type": "code",
   "execution_count": 93,
   "metadata": {},
   "outputs": [
    {
     "data": {
      "text/plain": [
       "'{\"VIN\": 123456789, \"Name\": \"Ivan\", \"Accidents\": {\"Accident_1\": {\"Reason\": \"DTP\", \"Date\": \"01-01-1999\"}, \"Accident_2\": {\"Reason\": \"Driver-idiot\", \"Date\": \"01-01-2000\"}}}'"
      ]
     },
     "execution_count": 93,
     "metadata": {},
     "output_type": "execute_result"
    }
   ],
   "source": [
    "json_data"
   ]
  },
  {
   "cell_type": "code",
   "execution_count": 94,
   "metadata": {},
   "outputs": [
    {
     "data": {
      "text/plain": [
       "{'VIN': 123456789,\n",
       " 'Name': 'Ivan',\n",
       " 'Accidents': {'Accident_1': {'Reason': 'DTP', 'Date': '01-01-1999'},\n",
       "  'Accident_2': {'Reason': 'Driver-idiot', 'Date': '01-01-2000'}}}"
      ]
     },
     "execution_count": 94,
     "metadata": {},
     "output_type": "execute_result"
    }
   ],
   "source": [
    "json.loads(json_data)"
   ]
  },
  {
   "cell_type": "markdown",
   "metadata": {},
   "source": [
    "### XML файлы <a class=\"anchor\" id=\"xml\"></a>"
   ]
  },
  {
   "cell_type": "markdown",
   "metadata": {},
   "source": [
    "<img src=\"Image_fourth_lecture/xml.jpg\" alt=\"XML\" width=\"600\">"
   ]
  },
  {
   "cell_type": "markdown",
   "metadata": {},
   "source": [
    "**XML** - это язык разметки, предназначенный для хранения и передачи данных. XML файлы имеют **древовидную** структуру, которая всегда начинается с **корня**."
   ]
  },
  {
   "cell_type": "markdown",
   "metadata": {},
   "source": [
    "<img src=\"Image_fourth_lecture/xml_tree.png\" alt=\"XML\" width=\"900\">"
   ]
  },
  {
   "cell_type": "markdown",
   "metadata": {},
   "source": [
    "Элементы, заключенные в <> называются тегами. В XML разметке теги должны быть **открывающимися** и **закрывающимися** (в отличии от HTML, где теги могут быть одинарными, т.е. не закрывающимися). Также в отличие от HTML разметки, в XML мы сами придумываем теги, фактически мы создаем базу данных на минималке."
   ]
  },
  {
   "cell_type": "markdown",
   "metadata": {},
   "source": [
    "Каждый тег в XML может содержать атрибуты, которые состоят из пары и значения."
   ]
  },
  {
   "cell_type": "markdown",
   "metadata": {},
   "source": [
    "```\n",
    "<class>\n",
    "    <student id = \"1\">\n",
    "    </student>\n",
    "    \n",
    "    <student id = \"2\">\n",
    "    </student>\n",
    "</class>\n",
    "```"
   ]
  },
  {
   "cell_type": "markdown",
   "metadata": {},
   "source": [
    "В вышеприведенном примере **id** является атрибутом тега **student**."
   ]
  },
  {
   "cell_type": "markdown",
   "metadata": {},
   "source": [
    "Python имеет несколько модулей для работы с xml файлами, которые имеют перекрывающуюся функциональность. В данном курса будет рассматриваться самый популярный из них - стандартный модуль **ElementTree**, находящийся в библиотеке **xml.etree**."
   ]
  },
  {
   "cell_type": "code",
   "execution_count": 95,
   "metadata": {},
   "outputs": [],
   "source": [
    "from xml.etree import ElementTree as et"
   ]
  },
  {
   "cell_type": "markdown",
   "metadata": {},
   "source": [
    "Модуль **ElementTree** содержит в себе два фундаментальных класса - это класс, представляющий все XML дерево, **ElementTree** и класс, представляющий узел в дереве, **Element**."
   ]
  },
  {
   "cell_type": "markdown",
   "metadata": {},
   "source": [
    "Считаем XML файл с помощью метода **ElementTree.parse**."
   ]
  },
  {
   "cell_type": "code",
   "execution_count": 96,
   "metadata": {},
   "outputs": [],
   "source": [
    "xml_file_1 = et.parse('Materials_fourth_lecture/xml/example_1.xml')"
   ]
  },
  {
   "cell_type": "code",
   "execution_count": 97,
   "metadata": {},
   "outputs": [
    {
     "name": "stdout",
     "output_type": "stream",
     "text": [
      "<class 'xml.etree.ElementTree.ElementTree'>\n"
     ]
    }
   ],
   "source": [
    "print(type(xml_file_1))"
   ]
  },
  {
   "cell_type": "markdown",
   "metadata": {},
   "source": [
    "Кроме метода **parse** часто используемым методом класса **ElementTree** является метод **getroot**, возвращающий корень дерева (а также далее рассмотренные методы **find, findall,findtext, iter, iterfind** только для корня дерева)."
   ]
  },
  {
   "cell_type": "code",
   "execution_count": 98,
   "metadata": {},
   "outputs": [
    {
     "name": "stdout",
     "output_type": "stream",
     "text": [
      "<Element 'ROOT' at 0x7f0c4a9ce048>\n",
      "<class 'xml.etree.ElementTree.Element'>\n"
     ]
    }
   ],
   "source": [
    "root = xml_file_1.getroot()\n",
    "\n",
    "print(root)\n",
    "print(type(root))"
   ]
  },
  {
   "cell_type": "markdown",
   "metadata": {},
   "source": [
    "Все элементы дерева являются итерируемыми, т.е. по их вложенным элементам можно пройтись в цикле."
   ]
  },
  {
   "cell_type": "code",
   "execution_count": 99,
   "metadata": {},
   "outputs": [
    {
     "data": {
      "text/plain": [
       "[<Element 'Certificates' at 0x7f0c4a9ce598>,\n",
       " <Element 'User' at 0x7f0c4a9ce638>,\n",
       " <Element 'Brand' at 0x7f0c4a9ce5e8>,\n",
       " <Element 'Displacement' at 0x7f0c4a9ce688>,\n",
       " <Element 'DateOfMileage' at 0x7f0c4a9ce6d8>,\n",
       " <Element 'Model' at 0x7f0c4a9ce728>,\n",
       " <Element 'Count' at 0x7f0c4a9ce778>,\n",
       " <Element 'SteeringWheelPlacement' at 0x7f0c4a9ce7c8>,\n",
       " <Element 'LeasingInformations' at 0x7f0c4a9ce818>,\n",
       " <Element 'VehicleType' at 0x7f0c4a9ce868>,\n",
       " <Element 'Mileage' at 0x7f0c4a9ce8b8>,\n",
       " <Element 'Year' at 0x7f0c4a9ce908>,\n",
       " <Element 'Accidents' at 0x7f0c4a9ce958>,\n",
       " <Element 'Taxi' at 0x7f0c4a9cebd8>,\n",
       " <Element 'EngineNumber' at 0x7f0c4a9cec28>,\n",
       " <Element 'Leasing' at 0x7f0c4a9cec78>,\n",
       " <Element 'SpecialArea' at 0x7f0c4a9cecc8>,\n",
       " <Element 'Customs' at 0x7f0c4a9ced18>,\n",
       " <Element 'Removed' at 0x7f0c4a9ced68>,\n",
       " <Element 'Utilisation' at 0x7f0c4a9cedb8>,\n",
       " <Element 'EngineType' at 0x7f0c4a9cee08>,\n",
       " <Element 'Power' at 0x7f0c4a9cee58>,\n",
       " <Element 'Stealing' at 0x7f0c4a9ceea8>,\n",
       " <Element 'MarkaRus' at 0x7f0c4a9ceef8>,\n",
       " <Element 'VehicleTypeNumber' at 0x7f0c4a9cef48>,\n",
       " <Element 'Category' at 0x7f0c4a9cef98>,\n",
       " <Element 'State' at 0x7f0c4a9e2098>,\n",
       " <Element 'NettoWeight' at 0x7f0c4a9e20e8>,\n",
       " <Element 'Price' at 0x7f0c4a9e2138>,\n",
       " <Element 'IsCustoms' at 0x7f0c4a9e2188>,\n",
       " <Element 'TaxiInformations' at 0x7f0c4a9e21d8>,\n",
       " <Element 'Results' at 0x7f0c4a9e2228>,\n",
       " <Element 'MaxWeight' at 0x7f0c4a9e9db8>,\n",
       " <Element 'ChassisNumber' at 0x7f0c4a9e9e08>]"
      ]
     },
     "execution_count": 99,
     "metadata": {},
     "output_type": "execute_result"
    }
   ],
   "source": [
    "elements = []\n",
    "\n",
    "for element in xml_file_1.getroot():\n",
    "    elements.append(element)\n",
    "    \n",
    "elements"
   ]
  },
  {
   "cell_type": "markdown",
   "metadata": {},
   "source": [
    "Ниже представлены все атрибуты объекта класса **Element**."
   ]
  },
  {
   "cell_type": "markdown",
   "metadata": {},
   "source": [
    "Атрибуты класса Element                | Описание\n",
    ":------------------------------|:------------------------------------\n",
    "attrib | Словарь, содержащий все атрибуты узла XML, в котором ключами являются строки, содержащие имена атрибутов\n",
    "tag    | Тег узла (строка)\n",
    "tail   | Произвольные данные (строка), следующие непосредственно за элементом (имеются ввиду данные не в тегах)\n",
    "text   | Произвольные данные (строка), находящиеся непосредственно внутри элемента (имеются ввиду данные не в тегах)"
   ]
  },
  {
   "cell_type": "code",
   "execution_count": 100,
   "metadata": {},
   "outputs": [],
   "source": [
    "results = elements[-3]"
   ]
  },
  {
   "cell_type": "code",
   "execution_count": 101,
   "metadata": {},
   "outputs": [
    {
     "data": {
      "text/plain": [
       "{'id': 'results', 'name': 'RES'}"
      ]
     },
     "execution_count": 101,
     "metadata": {},
     "output_type": "execute_result"
    }
   ],
   "source": [
    "results.attrib"
   ]
  },
  {
   "cell_type": "code",
   "execution_count": 102,
   "metadata": {},
   "outputs": [
    {
     "data": {
      "text/plain": [
       "'Results'"
      ]
     },
     "execution_count": 102,
     "metadata": {},
     "output_type": "execute_result"
    }
   ],
   "source": [
    "results.tag"
   ]
  },
  {
   "cell_type": "code",
   "execution_count": 103,
   "metadata": {},
   "outputs": [
    {
     "data": {
      "text/plain": [
       "'Привет\\n\\t'"
      ]
     },
     "execution_count": 103,
     "metadata": {},
     "output_type": "execute_result"
    }
   ],
   "source": [
    "results.tail"
   ]
  },
  {
   "cell_type": "code",
   "execution_count": 104,
   "metadata": {},
   "outputs": [
    {
     "data": {
      "text/plain": [
       "'\\n\\t\\t'"
      ]
     },
     "execution_count": 104,
     "metadata": {},
     "output_type": "execute_result"
    }
   ],
   "source": [
    "results.text"
   ]
  },
  {
   "cell_type": "markdown",
   "metadata": {},
   "source": [
    "Ниже рассмотрены отображены только те методы, которые **НЕ** изменяют XML структуру, а только позволяют **ПОЛУЧИТЬ** данные из нее."
   ]
  },
  {
   "cell_type": "markdown",
   "metadata": {},
   "source": [
    "Методы класса Element                | Описание\n",
    ":------------------------------|:------------------------------------\n",
    "get(key, default = None)     | Возвращает значение атрибута элемента *key*, если не найден возвращает *default*\n",
    "items()                      | Возвращает список кортежей (name, value) для всех атрибутов элемента в произвольном порядке\n",
    "keys()                       | Возвращает список имен всех атрибутов элемента в произвольном порядке"
   ]
  },
  {
   "cell_type": "code",
   "execution_count": 105,
   "metadata": {},
   "outputs": [
    {
     "data": {
      "text/plain": [
       "'RES'"
      ]
     },
     "execution_count": 105,
     "metadata": {},
     "output_type": "execute_result"
    }
   ],
   "source": [
    "results.get('name')"
   ]
  },
  {
   "cell_type": "code",
   "execution_count": 106,
   "metadata": {},
   "outputs": [
    {
     "data": {
      "text/plain": [
       "[('id', 'results'), ('name', 'RES')]"
      ]
     },
     "execution_count": 106,
     "metadata": {},
     "output_type": "execute_result"
    }
   ],
   "source": [
    "results.items()"
   ]
  },
  {
   "cell_type": "code",
   "execution_count": 107,
   "metadata": {},
   "outputs": [
    {
     "data": {
      "text/plain": [
       "['id', 'name']"
      ]
     },
     "execution_count": 107,
     "metadata": {},
     "output_type": "execute_result"
    }
   ],
   "source": [
    "results.keys()"
   ]
  },
  {
   "cell_type": "markdown",
   "metadata": {},
   "source": [
    "Остальные методы элемента работают с дочерними элементами."
   ]
  },
  {
   "cell_type": "markdown",
   "metadata": {},
   "source": [
    "Методы класса Element                | Описание\n",
    ":------------------------------|:------------------------------------\n",
    "find(match, namespaces = None) | Возвращает первого потомка, соответствующего *match* (имя тега), при отсутствии потомка возвращает **None**. Агрумент *namespaces* указывает в каком пространстве имен XML следует искать имя (см. документацию).\n",
    "findall(match, namespaces = None) | Возвращает список всех потомков, соответствующих аргументу *martch* (имя тега), при отсутствии потомков, возвращает пустой список.\n",
    "findtext(match, default = None, namespaces = None) | Возвращает текст первого потомка, соответствующего аргументу *martch* (имя тега), при отстуствии текста у первого потомка возвращается пустая строка. В отсутствии потомков возвращается значение *default*. Агрумент *namespaces* указывает в каком пространстве имен XML следует искать имя (см. документацию).\n",
    "iter(tag='\\*') | Возвращает итератор, соверщающий обход всех потомков в порядке \"сначала в глубину\", если аргумент *tag* не равен '\\*', то возвращает только те элементы тег которых равен *tag*  "
   ]
  },
  {
   "cell_type": "code",
   "execution_count": 108,
   "metadata": {},
   "outputs": [
    {
     "name": "stdout",
     "output_type": "stream",
     "text": [
      "<Element 'Result' at 0x7f0c4a9e2278>\n",
      "{'num': '3'}\n"
     ]
    }
   ],
   "source": [
    "print(results.find('Result'))\n",
    "print(results.find('Result').attrib)"
   ]
  },
  {
   "cell_type": "code",
   "execution_count": 109,
   "metadata": {},
   "outputs": [
    {
     "data": {
      "text/plain": [
       "[<Element 'Result' at 0x7f0c4a9e2278>,\n",
       " <Element 'Result' at 0x7f0c4a9e2688>,\n",
       " <Element 'Result' at 0x7f0c4a9e2a98>,\n",
       " <Element 'Result' at 0x7f0c4a9e2ea8>,\n",
       " <Element 'Result' at 0x7f0c4a9e9458>,\n",
       " <Element 'Result' at 0x7f0c4a9e99a8>]"
      ]
     },
     "execution_count": 109,
     "metadata": {},
     "output_type": "execute_result"
    }
   ],
   "source": [
    "results.findall('Result')"
   ]
  },
  {
   "cell_type": "code",
   "execution_count": 110,
   "metadata": {},
   "outputs": [
    {
     "name": "stdout",
     "output_type": "stream",
     "text": [
      "<Element 'dateOfLastOperation' at 0x7f0c4a9e2318> - 31.08.2010\n",
      "<Element 'dateOfLastOperation' at 0x7f0c4a9e2728> - 31.08.2010\n",
      "<Element 'dateOfLastOperation' at 0x7f0c4a9e2b38> - 31.08.2010\n",
      "<Element 'dateOfLastOperation' at 0x7f0c4a9e2f98> - 24.10.2015\n",
      "<Element 'dateOfLastOperation' at 0x7f0c4a9e9548> - 12.09.2015\n",
      "<Element 'dateOfLastOperation' at 0x7f0c4a9e9a48> - 31.08.2010\n"
     ]
    }
   ],
   "source": [
    "for date in root.iter('dateOfLastOperation'):\n",
    "    print(f'{date} - {date.text}')"
   ]
  },
  {
   "cell_type": "markdown",
   "metadata": {},
   "source": [
    "Возможно вам удобнее работать больше с JSON форматом (всмысле со словарем), чем с XML. Рассмотрим превращение XML файла в словарь. Для этого можно использовать модуль **xmltodict**."
   ]
  },
  {
   "cell_type": "code",
   "execution_count": 111,
   "metadata": {},
   "outputs": [],
   "source": [
    "import xmltodict"
   ]
  },
  {
   "cell_type": "markdown",
   "metadata": {},
   "source": [
    "Модуль **xmltodict** также имеет метод **parse**, однако здесь метод принимает на вход текстовое представление XML файла."
   ]
  },
  {
   "cell_type": "code",
   "execution_count": 112,
   "metadata": {},
   "outputs": [],
   "source": [
    "with open('Materials_fourth_lecture/xml/example_1.xml') as file:\n",
    "    dict_from_xml = xmltodict.parse(file.read())"
   ]
  },
  {
   "cell_type": "code",
   "execution_count": 113,
   "metadata": {},
   "outputs": [
    {
     "data": {
      "text/plain": [
       "OrderedDict([('ROOT',\n",
       "              OrderedDict([('Certificates', 'null'),\n",
       "                           ('User', 'renins'),\n",
       "                           ('Brand', 'HONDA'),\n",
       "                           ('Displacement', '1997'),\n",
       "                           ('DateOfMileage', '-'),\n",
       "                           ('Model', 'CR-V'),\n",
       "                           ('Count', '6'),\n",
       "                           ('SteeringWheelPlacement', '1'),\n",
       "                           ('LeasingInformations', None),\n",
       "                           ('VehicleType', 'PC'),\n",
       "                           ('Mileage', '-'),\n",
       "                           ('Year', '2010'),\n",
       "                           ('Accidents',\n",
       "                            OrderedDict([('Accident',\n",
       "                                          OrderedDict([('@num', '1'),\n",
       "                                                       ('region',\n",
       "                                                        'Республика Татарстан'),\n",
       "                                                       ('vehicleDamageState',\n",
       "                                                        'Повреждено'),\n",
       "                                                       ('damagePoints',\n",
       "                                                        '114,115'),\n",
       "                                                       ('accidentNumber',\n",
       "                                                        '920101960'),\n",
       "                                                       ('accidentType',\n",
       "                                                        'Столкновение'),\n",
       "                                                       ('accidentDateTime',\n",
       "                                                        '26.12.2017 23:16')]))])),\n",
       "                           ('Taxi', 'false'),\n",
       "                           ('EngineNumber', '4012804'),\n",
       "                           ('Leasing', 'false'),\n",
       "                           ('SpecialArea', 'false'),\n",
       "                           ('Customs', None),\n",
       "                           ('Removed', 'false'),\n",
       "                           ('Utilisation', 'false'),\n",
       "                           ('EngineType', '1'),\n",
       "                           ('Power', '150'),\n",
       "                           ('Stealing', 'false'),\n",
       "                           ('MarkaRus', 'ХОНДА  СR-V'),\n",
       "                           ('VehicleTypeNumber', '29'),\n",
       "                           ('Category', 'В'),\n",
       "                           ('State', 'OK'),\n",
       "                           ('NettoWeight', '1605'),\n",
       "                           ('Price', '804210,00'),\n",
       "                           ('IsCustoms', 'false'),\n",
       "                           ('TaxiInformations', None),\n",
       "                           ('Results',\n",
       "                            OrderedDict([('@id', 'results'),\n",
       "                                         ('@name', 'RES'),\n",
       "                                         ('Result',\n",
       "                                          [OrderedDict([('@num', '3'),\n",
       "                                                        ('region',\n",
       "                                                         'ОКТЯБРЬСКИЙ'),\n",
       "                                                        ('dateOfLastOperation',\n",
       "                                                         '31.08.2010'),\n",
       "                                                        ('area', '430000'),\n",
       "                                                        ('dateOfFirstRegistration',\n",
       "                                                         '31.08.2010'),\n",
       "                                                        ('street', '-'),\n",
       "                                                        ('oblast',\n",
       "                                                         'Республика\\u3000Мордовия'),\n",
       "                                                        ('okrug',\n",
       "                                                         'Приволжский'),\n",
       "                                                        ('type', 'park'),\n",
       "                                                        ('city', 'САРАНСК'),\n",
       "                                                        ('categoryOfOwner',\n",
       "                                                         '2'),\n",
       "                                                        ('codeOfTechOperation',\n",
       "                                                         '11'),\n",
       "                                                        ('country', 'RU')]),\n",
       "                                           OrderedDict([('@num', '2'),\n",
       "                                                        ('region',\n",
       "                                                         'ОКТЯБРЬСКИЙ'),\n",
       "                                                        ('dateOfLastOperation',\n",
       "                                                         '31.08.2010'),\n",
       "                                                        ('area', '430000'),\n",
       "                                                        ('dateOfFirstRegistration',\n",
       "                                                         '31.08.2010'),\n",
       "                                                        ('street', '-'),\n",
       "                                                        ('oblast',\n",
       "                                                         'Республика\\u3000Мордовия'),\n",
       "                                                        ('okrug',\n",
       "                                                         'Приволжский'),\n",
       "                                                        ('type', 'park'),\n",
       "                                                        ('city', 'САРАНСК'),\n",
       "                                                        ('categoryOfOwner',\n",
       "                                                         '2'),\n",
       "                                                        ('codeOfTechOperation',\n",
       "                                                         '11'),\n",
       "                                                        ('country', 'RU')]),\n",
       "                                           OrderedDict([('@num', '1'),\n",
       "                                                        ('region',\n",
       "                                                         'ОКТЯБРЬСКИЙ'),\n",
       "                                                        ('dateOfLastOperation',\n",
       "                                                         '31.08.2010'),\n",
       "                                                        ('area', '430000'),\n",
       "                                                        ('dateOfFirstRegistration',\n",
       "                                                         '31.08.2010'),\n",
       "                                                        ('street', '-'),\n",
       "                                                        ('oblast',\n",
       "                                                         'Республика Мордовия'),\n",
       "                                                        ('okrug',\n",
       "                                                         'Приволжский'),\n",
       "                                                        ('type', 'park'),\n",
       "                                                        ('city', 'САРАНСК'),\n",
       "                                                        ('categoryOfOwner',\n",
       "                                                         '2'),\n",
       "                                                        ('codeOfTechOperation',\n",
       "                                                         '11'),\n",
       "                                                        ('country', 'RU')]),\n",
       "                                           OrderedDict([('@num', '6'),\n",
       "                                                        ('inn', '-'),\n",
       "                                                        ('region',\n",
       "                                                         'НОВОСАВИНОВСКИЙ'),\n",
       "                                                        ('dateOfLastOperation',\n",
       "                                                         '24.10.2015'),\n",
       "                                                        ('street', '-'),\n",
       "                                                        ('oblast',\n",
       "                                                         'Республика\\u3000Татарстан'),\n",
       "                                                        ('okrug',\n",
       "                                                         'Приволжский'),\n",
       "                                                        ('house', '-'),\n",
       "                                                        ('type',\n",
       "                                                         'registration'),\n",
       "                                                        ('appartment', '-'),\n",
       "                                                        ('city',\n",
       "                                                         '.\\u3000КАЗАНЬ'),\n",
       "                                                        ('country', 'RU'),\n",
       "                                                        ('codeOfTechOperation',\n",
       "                                                         '94'),\n",
       "                                                        ('area', '420136'),\n",
       "                                                        ('dateOfFirstRegistration',\n",
       "                                                         '31.08.2010'),\n",
       "                                                        ('owner',\n",
       "                                                         'ФИЗ\\u3000ЛИЦО'),\n",
       "                                                        ('categoryOfOwner',\n",
       "                                                         '2')]),\n",
       "                                           OrderedDict([('@num', '5'),\n",
       "                                                        ('inn', '-'),\n",
       "                                                        ('region', '-'),\n",
       "                                                        ('dateOfLastOperation',\n",
       "                                                         '12.09.2015'),\n",
       "                                                        ('street', '-'),\n",
       "                                                        ('oblast',\n",
       "                                                         'Республика\\u3000Татарстан'),\n",
       "                                                        ('okrug',\n",
       "                                                         'Приволжский'),\n",
       "                                                        ('house', '-'),\n",
       "                                                        ('type',\n",
       "                                                         'registration'),\n",
       "                                                        ('appartment', '-'),\n",
       "                                                        ('city',\n",
       "                                                         'Г.\\u3000САРАНСК'),\n",
       "                                                        ('country', 'RU'),\n",
       "                                                        ('codeOfTechOperation',\n",
       "                                                         '41'),\n",
       "                                                        ('area', '430000'),\n",
       "                                                        ('dateOfFirstRegistration',\n",
       "                                                         '31.08.2010'),\n",
       "                                                        ('owner',\n",
       "                                                         'ФИЗ\\u3000ЛИЦО'),\n",
       "                                                        ('categoryOfOwner',\n",
       "                                                         '2')]),\n",
       "                                           OrderedDict([('@num', '4'),\n",
       "                                                        ('region',\n",
       "                                                         'ОКТЯБРЬСКИЙ'),\n",
       "                                                        ('dateOfLastOperation',\n",
       "                                                         '31.08.2010'),\n",
       "                                                        ('area', '430000'),\n",
       "                                                        ('dateOfFirstRegistration',\n",
       "                                                         '31.08.2010'),\n",
       "                                                        ('street', '-'),\n",
       "                                                        ('oblast',\n",
       "                                                         'Республика\\u3000Мордовия'),\n",
       "                                                        ('okrug',\n",
       "                                                         'Приволжский'),\n",
       "                                                        ('type', 'park'),\n",
       "                                                        ('city', 'САРАНСК'),\n",
       "                                                        ('categoryOfOwner',\n",
       "                                                         '2'),\n",
       "                                                        ('codeOfTechOperation',\n",
       "                                                         '11'),\n",
       "                                                        ('country',\n",
       "                                                         'RU')])])])),\n",
       "                           ('MaxWeight', '2080'),\n",
       "                           ('ChassisNumber', '-'),\n",
       "                           ('#text', 'Привет')]))])"
      ]
     },
     "execution_count": 113,
     "metadata": {},
     "output_type": "execute_result"
    }
   ],
   "source": [
    "dict_from_xml"
   ]
  },
  {
   "cell_type": "markdown",
   "metadata": {},
   "source": [
    "Не пугайтесь слов - **OrderedDict**. Это тоже словарь, просто который фиксирует порядок ключей."
   ]
  },
  {
   "cell_type": "code",
   "execution_count": 114,
   "metadata": {},
   "outputs": [
    {
     "data": {
      "text/plain": [
       "'HONDA'"
      ]
     },
     "execution_count": 114,
     "metadata": {},
     "output_type": "execute_result"
    }
   ],
   "source": [
    "dict_from_xml['ROOT']['Brand']"
   ]
  },
  {
   "cell_type": "markdown",
   "metadata": {},
   "source": [
    "### Задача "
   ]
  },
  {
   "cell_type": "markdown",
   "metadata": {},
   "source": [
    "XML файл с которым предстоит работать находится в *Materials_fourth_lecture/xml/example_2.xml*. В теге *Results* данного файла описаны все операции, которые происходили с авто. Необходимо найти все операции, которые происходили с авто (код операции), регионы, в которых эти операции производились, а также даты когда они производились. Далее требуется записать в JSON файл найденные регион, код операции и дату, отсортированные по региону (по алфавиту). Формат JSON файла следующий:\n",
    "```\n",
    "region: {НОМЕР ОПЕРАЦИИ: codeOfTechOperation\n",
    "         ДАТА: dateOfLastOperation},\n",
    "region: {НОМЕР ОПЕРАЦИИ: codeOfTechOperation\n",
    "         ДАТА: dateOfLastOperation}\n",
    "   ...\n",
    "```\n",
    "\n",
    "Вместо *region, codeOfTechOperation, dateOfLastOperation* вставить реальные значения."
   ]
  },
  {
   "cell_type": "code",
   "execution_count": null,
   "metadata": {},
   "outputs": [],
   "source": []
  },
  {
   "cell_type": "markdown",
   "metadata": {},
   "source": [
    "<img src=\"Image_fourth_lecture/files_end.jpg\" alt=\"XML\" width=\"900\">"
   ]
  }
 ],
 "metadata": {
  "kernelspec": {
   "display_name": "Python 3",
   "language": "python",
   "name": "python3"
  },
  "language_info": {
   "codemirror_mode": {
    "name": "ipython",
    "version": 3
   },
   "file_extension": ".py",
   "mimetype": "text/x-python",
   "name": "python",
   "nbconvert_exporter": "python",
   "pygments_lexer": "ipython3",
   "version": "3.6.8"
  }
 },
 "nbformat": 4,
 "nbformat_minor": 2
}
