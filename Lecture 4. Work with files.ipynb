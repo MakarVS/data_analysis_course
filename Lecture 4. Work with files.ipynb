{
 "cells": [
  {
   "cell_type": "markdown",
   "metadata": {},
   "source": [
    "<table>\n",
    "<tr style=\"background:transparent\">\n",
    " <td><font size=\"7\" face=\"serif\"><b>Курс анализа данных на Python</b></font></td>   \n",
    " <td><img src=\"Image_fourth_lecture/Unknown.png\" alt=\"Змейка\" width=\"200\" height=\"100\"></td>\n",
    "</tr>\n",
    "</table>"
   ]
  },
  {
   "cell_type": "markdown",
   "metadata": {},
   "source": [
    "<img src=\"Image_fourth_lecture/logs.jpg\" alt=\"Логи\" width=\"800\">"
   ]
  },
  {
   "cell_type": "markdown",
   "metadata": {},
   "source": [
    "<center><font size=\"6\" face=\"serif\"><b>Работа с файлами в Python</b></font></center>"
   ]
  },
  {
   "cell_type": "markdown",
   "metadata": {},
   "source": [
    "## Навигация"
   ]
  },
  {
   "cell_type": "markdown",
   "metadata": {},
   "source": [
    "[Тестовые файлы](#text)\n",
    "\n",
    "[JSON файлы](#json)\n",
    "\n",
    "[XML файлы](#xml)"
   ]
  },
  {
   "cell_type": "markdown",
   "metadata": {},
   "source": [
    "### Текстовые файлы <a class=\"anchor\" id=\"text\"></a>"
   ]
  },
  {
   "cell_type": "markdown",
   "metadata": {},
   "source": [
    "<img src=\"Image_fourth_lecture/txt.jpg\" alt=\"XML\" width=\"500\">"
   ]
  },
  {
   "cell_type": "code",
   "execution_count": null,
   "metadata": {},
   "outputs": [],
   "source": []
  },
  {
   "cell_type": "markdown",
   "metadata": {},
   "source": [
    "Обычно работа с файлами осуществляется с помощью так называемого контекстного менеджера. Если коротко, то одна из фунциональностей (и главная для работы с файлами) заключается в выполнении каких либо действий до входа в блок и после выхода из него."
   ]
  },
  {
   "cell_type": "markdown",
   "metadata": {},
   "source": [
    "Синтаксис контекстного менеджера начинается с ключевого слова **with**. В работе с файлами он используется для того, чтобы не закрывать файл вручную. Вся работа с файлом происходит внутри блока **with**, по выходу из блока работа с файлом прекращается и он автоматически закрывается."
   ]
  },
  {
   "cell_type": "code",
   "execution_count": null,
   "metadata": {},
   "outputs": [],
   "source": [
    "with open('') as file:\n",
    "    "
   ]
  },
  {
   "cell_type": "markdown",
   "metadata": {},
   "source": [
    "### JSON файлы <a class=\"anchor\" id=\"json\"></a>"
   ]
  },
  {
   "cell_type": "markdown",
   "metadata": {},
   "source": [
    "<img src=\"Image_fourth_lecture/json.png\" alt=\"XML\" width=\"600\">"
   ]
  },
  {
   "cell_type": "code",
   "execution_count": 53,
   "metadata": {},
   "outputs": [],
   "source": [
    "import json"
   ]
  },
  {
   "cell_type": "code",
   "execution_count": 74,
   "metadata": {},
   "outputs": [],
   "source": [
    "with open('Materials_fourth_lecture/json/example_1.json') as file:\n",
    "    data_json = json.load(file)"
   ]
  },
  {
   "cell_type": "code",
   "execution_count": 78,
   "metadata": {},
   "outputs": [
    {
     "data": {
      "text/plain": [
       "{'ROOT': {'Certificates': 'null',\n",
       "  'User': 'renins',\n",
       "  'Brand': 'HYUNDAI',\n",
       "  'Displacement': '2656',\n",
       "  'DateOfMileage': '-',\n",
       "  'Model': 'HYUNDAI SANTA FE',\n",
       "  'Count': '11',\n",
       "  'SteeringWheelPlacement': '-',\n",
       "  'LeasingInformations': None,\n",
       "  'VehicleType': 'PC',\n",
       "  'Mileage': '-',\n",
       "  'Year': '2007',\n",
       "  'Accidents': None,\n",
       "  'Taxi': 'false',\n",
       "  'EngineNumber': '7А999471',\n",
       "  'Leasing': 'false',\n",
       "  'SpecialArea': 'false',\n",
       "  'Customs': None,\n",
       "  'Removed': 'false',\n",
       "  'Utilisation': 'false',\n",
       "  'EngineType': '-',\n",
       "  'Power': '189',\n",
       "  'Stealing': 'false',\n",
       "  'MarkaRus': 'НУUNDАI SАNТА',\n",
       "  'VehicleTypeNumber': '9',\n",
       "  'Category': 'В',\n",
       "  'State': 'OK',\n",
       "  'NettoWeight': '-',\n",
       "  'Price': '615476,00',\n",
       "  'IsCustoms': 'false',\n",
       "  'TaxiInformations': None,\n",
       "  'Results': {'Result': [{'@num': '3',\n",
       "     'region': 'СТАРООСКОЛЬСКИЙ',\n",
       "     'dateOfLastOperation': '21.12.2007',\n",
       "     'area': '309500',\n",
       "     'dateOfFirstRegistration': '21.12.2007',\n",
       "     'street': '-',\n",
       "     'oblast': 'Белгородская область',\n",
       "     'okrug': 'Центральный',\n",
       "     'type': 'park',\n",
       "     'city': 'СТАРЫЙ ОСКОЛ Г',\n",
       "     'categoryOfOwner': '2',\n",
       "     'codeOfTechOperation': '12',\n",
       "     'country': 'RU'},\n",
       "    {'@num': '2',\n",
       "     'region': 'СТАРООСКОЛЬСКИЙ',\n",
       "     'dateOfLastOperation': '21.12.2007',\n",
       "     'area': '309500',\n",
       "     'dateOfFirstRegistration': '21.12.2007',\n",
       "     'street': '-',\n",
       "     'oblast': 'Белгородская область',\n",
       "     'okrug': 'Центральный',\n",
       "     'type': 'park',\n",
       "     'city': 'СТАРЫЙ ОСКОЛ Г',\n",
       "     'categoryOfOwner': '2',\n",
       "     'codeOfTechOperation': '12',\n",
       "     'country': 'RU'},\n",
       "    {'@num': '10',\n",
       "     'inn': '-',\n",
       "     'region': 'ДАГЕСТАНСКИЕ\\u3000ОГНИ',\n",
       "     'dateOfLastOperation': '10.07.2015',\n",
       "     'street': '-',\n",
       "     'oblast': 'Республика\\u3000Дагестан',\n",
       "     'okrug': 'Северо-Кавказский',\n",
       "     'house': '-',\n",
       "     'type': 'registration',\n",
       "     'appartment': '-',\n",
       "     'city': 'ДАГ\\u3000ОГНИ\\u3000Г',\n",
       "     'country': 'RU',\n",
       "     'codeOfTechOperation': '94',\n",
       "     'area': '368670',\n",
       "     'dateOfFirstRegistration': '10.07.2015',\n",
       "     'owner': 'ФИЗ\\u3000ЛИЦО',\n",
       "     'categoryOfOwner': '2'},\n",
       "    {'@num': '1',\n",
       "     'region': 'СТ.ОСКОЛЬСКИЙ',\n",
       "     'dateOfLastOperation': '21.12.2007',\n",
       "     'area': '309500',\n",
       "     'dateOfFirstRegistration': '21.12.2007',\n",
       "     'street': '-',\n",
       "     'oblast': 'Белгородская область',\n",
       "     'okrug': 'Центральный',\n",
       "     'type': 'park',\n",
       "     'city': 'СТАРЫЙ ОСКОЛ Г.',\n",
       "     'categoryOfOwner': '2',\n",
       "     'codeOfTechOperation': '11',\n",
       "     'country': 'RU'},\n",
       "    {'@num': '7',\n",
       "     'inn': '-',\n",
       "     'region': 'ОКТЯБРЬСКИЙ',\n",
       "     'dateOfLastOperation': '28.11.2014',\n",
       "     'street': '-',\n",
       "     'oblast': 'Калужская\\u3000область',\n",
       "     'okrug': 'Центральный',\n",
       "     'house': '-',\n",
       "     'type': 'registration',\n",
       "     'appartment': '-',\n",
       "     'city': 'Г.\\u3000КАЛУГА',\n",
       "     'country': 'RU',\n",
       "     'codeOfTechOperation': '94',\n",
       "     'area': '248000',\n",
       "     'dateOfFirstRegistration': '28.11.2014',\n",
       "     'owner': 'ФИЗ\\u3000ЛИЦО',\n",
       "     'categoryOfOwner': '2'},\n",
       "    {'@num': '6',\n",
       "     'region': 'СТАРООСКОЛЬСКИЙ',\n",
       "     'dateOfLastOperation': '21.12.2007',\n",
       "     'area': '309500',\n",
       "     'dateOfFirstRegistration': '21.12.2007',\n",
       "     'street': '-',\n",
       "     'oblast': 'Белгородская\\u3000область',\n",
       "     'okrug': 'Центральный',\n",
       "     'type': 'park',\n",
       "     'city': 'СТАРЫЙ\\u3000ОСКОЛ\\u3000Г',\n",
       "     'categoryOfOwner': '2',\n",
       "     'codeOfTechOperation': '12',\n",
       "     'country': 'RU'},\n",
       "    {'@num': '5',\n",
       "     'region': 'СТАРООСКОЛЬСКИЙ',\n",
       "     'dateOfLastOperation': '21.12.2007',\n",
       "     'area': '309500',\n",
       "     'dateOfFirstRegistration': '21.12.2007',\n",
       "     'street': '-',\n",
       "     'oblast': 'Белгородская\\u3000область',\n",
       "     'okrug': 'Центральный',\n",
       "     'type': 'park',\n",
       "     'city': 'СТАРЫЙ\\u3000ОСКОЛ\\u3000Г',\n",
       "     'categoryOfOwner': '2',\n",
       "     'codeOfTechOperation': '12',\n",
       "     'country': 'RU'},\n",
       "    {'@num': '4',\n",
       "     'region': 'СТАРООСКОЛЬСКИЙ',\n",
       "     'dateOfLastOperation': '21.12.2007',\n",
       "     'area': '309500',\n",
       "     'dateOfFirstRegistration': '21.12.2007',\n",
       "     'street': '-',\n",
       "     'oblast': 'Белгородская\\u3000область',\n",
       "     'okrug': 'Центральный',\n",
       "     'type': 'park',\n",
       "     'city': 'СТАРЫЙ\\u3000ОСКОЛ\\u3000Г',\n",
       "     'categoryOfOwner': '2',\n",
       "     'codeOfTechOperation': '12',\n",
       "     'country': 'RU'},\n",
       "    {'@num': '9',\n",
       "     'inn': '-',\n",
       "     'region': 'ОРДЖОНИКИДЗЕВСКИЙ\\u3000\\u3000Р-Н',\n",
       "     'dateOfLastOperation': '26.05.2015',\n",
       "     'street': '-',\n",
       "     'oblast': 'Пермский\\u3000край',\n",
       "     'okrug': 'Приволжский',\n",
       "     'house': '-',\n",
       "     'type': 'registration',\n",
       "     'appartment': '-',\n",
       "     'city': 'ПЕРМЬ\\u3000Г',\n",
       "     'country': 'RU',\n",
       "     'codeOfTechOperation': '94',\n",
       "     'area': '614047',\n",
       "     'dateOfFirstRegistration': '01.01.0001',\n",
       "     'owner': 'ФИЗ\\u3000ЛИЦО',\n",
       "     'categoryOfOwner': '2'},\n",
       "    {'@num': '8',\n",
       "     'inn': '-',\n",
       "     'region': 'КАСПИЙСК',\n",
       "     'dateOfLastOperation': '14.03.2015',\n",
       "     'street': '-',\n",
       "     'oblast': 'Республика\\u3000Дагестан',\n",
       "     'okrug': 'Северо-Кавказский',\n",
       "     'house': '-',\n",
       "     'type': 'registration',\n",
       "     'appartment': '-',\n",
       "     'city': 'КАСПИЙСК\\u3000Г',\n",
       "     'country': 'RU',\n",
       "     'codeOfTechOperation': '94',\n",
       "     'area': '368300',\n",
       "     'dateOfFirstRegistration': '14.03.2015',\n",
       "     'owner': 'ФИЗ\\u3000ЛИЦО',\n",
       "     'categoryOfOwner': '2'},\n",
       "    {'@num': '11',\n",
       "     'inn': '-',\n",
       "     'region': 'ДЕРБЕНТСКИЙ\\u3000Р-Н.',\n",
       "     'dateOfLastOperation': '11.10.2017',\n",
       "     'street': '-',\n",
       "     'oblast': 'Республика\\u3000Дагестан',\n",
       "     'okrug': 'Северо-Кавказский',\n",
       "     'house': '-',\n",
       "     'type': 'registration',\n",
       "     'appartment': '-',\n",
       "     'city': 'С\\u3000ХАЗАР',\n",
       "     'country': 'RU',\n",
       "     'codeOfTechOperation': '94',\n",
       "     'area': '368612',\n",
       "     'dateOfFirstRegistration': '11.10.2017',\n",
       "     'owner': 'ФИЗ\\u3000ЛИЦО',\n",
       "     'categoryOfOwner': '2'}]},\n",
       "  'MaxWeight': '-',\n",
       "  'ChassisNumber': '-'}}"
      ]
     },
     "execution_count": 78,
     "metadata": {},
     "output_type": "execute_result"
    }
   ],
   "source": [
    "data_json"
   ]
  },
  {
   "cell_type": "code",
   "execution_count": 77,
   "metadata": {},
   "outputs": [
    {
     "data": {
      "text/plain": [
       "'HYUNDAI SANTA FE'"
      ]
     },
     "execution_count": 77,
     "metadata": {},
     "output_type": "execute_result"
    }
   ],
   "source": [
    "data_json['ROOT']['Model']"
   ]
  },
  {
   "cell_type": "markdown",
   "metadata": {},
   "source": [
    "### XML файлы <a class=\"anchor\" id=\"xml\"></a>"
   ]
  },
  {
   "cell_type": "markdown",
   "metadata": {},
   "source": [
    "<img src=\"Image_fourth_lecture/xml.jpg\" alt=\"XML\" width=\"600\">"
   ]
  },
  {
   "cell_type": "markdown",
   "metadata": {},
   "source": [
    "**XML** - это язык разметки, предназначенный для хранения и передачи данных. XML файлы имеют **древовидную** структуру, которая всегда начинается с **корня**."
   ]
  },
  {
   "cell_type": "markdown",
   "metadata": {},
   "source": [
    "<img src=\"Image_fourth_lecture/xml_tree.png\" alt=\"XML\" width=\"900\">"
   ]
  },
  {
   "cell_type": "markdown",
   "metadata": {},
   "source": [
    "Элементы, заключенные в <> называются тегами. В XML разметке теги должны быть **открывающимися** и **закрывающимися** (в отличии от HTML, где теги могут быть одинарными, т.е. не закрывающимися). Также в отличие от HTML разметки, в XML мы сами придумываем теги, фактически мы создаем базу данных на минималке."
   ]
  },
  {
   "cell_type": "markdown",
   "metadata": {},
   "source": [
    "Каждый тег в XML может содержать атрибуты, которые состоят из пары и значения."
   ]
  },
  {
   "cell_type": "markdown",
   "metadata": {},
   "source": [
    "```\n",
    "<class>\n",
    "    <student id = \"1\">\n",
    "    </student>\n",
    "    \n",
    "    <student id = \"2\">\n",
    "    </student>\n",
    "</class>\n",
    "```"
   ]
  },
  {
   "cell_type": "markdown",
   "metadata": {},
   "source": [
    "В вышеприведенном примере **id** является атрибутом тега **student**."
   ]
  },
  {
   "cell_type": "markdown",
   "metadata": {},
   "source": [
    "Python имеет несколько модулей для работы с xml файлами, которые имеют перекрывающуюся функциональность. В данном курса будет рассматриваться самый популярный из них - стандартный модуль **ElementTree**, находящийся в библиотеке **xml.etree**."
   ]
  },
  {
   "cell_type": "code",
   "execution_count": 1,
   "metadata": {},
   "outputs": [],
   "source": [
    "from xml.etree import ElementTree as et"
   ]
  },
  {
   "cell_type": "markdown",
   "metadata": {},
   "source": [
    "Модуль **ElementTree** содержит в себе два фундаментальных класса - это класс, представляющий все XML дерево, **ElementTree** и класс, представляющий узел в дереве, **Element**."
   ]
  },
  {
   "cell_type": "markdown",
   "metadata": {},
   "source": [
    "Считаем XML файл с помощью метода **ElementTree.parse**."
   ]
  },
  {
   "cell_type": "code",
   "execution_count": 2,
   "metadata": {},
   "outputs": [],
   "source": [
    "xml_file_1 = et.parse('Materials_fourth_lecture/xml/example_1.xml')"
   ]
  },
  {
   "cell_type": "code",
   "execution_count": 3,
   "metadata": {},
   "outputs": [
    {
     "name": "stdout",
     "output_type": "stream",
     "text": [
      "<class 'xml.etree.ElementTree.ElementTree'>\n"
     ]
    }
   ],
   "source": [
    "print(type(xml_file_1))"
   ]
  },
  {
   "cell_type": "markdown",
   "metadata": {},
   "source": [
    "Кроме метода **parse** часто используемым методом класса **ElementTree** является метод **getroot**, возвращающий корень дерева (а также далее рассмотренные методы **find, findall,findtext, iter, iterfind** только для корня дерева)."
   ]
  },
  {
   "cell_type": "code",
   "execution_count": 18,
   "metadata": {},
   "outputs": [
    {
     "name": "stdout",
     "output_type": "stream",
     "text": [
      "<Element 'ROOT' at 0x108f95458>\n",
      "<class 'xml.etree.ElementTree.Element'>\n"
     ]
    }
   ],
   "source": [
    "root = xml_file_1.getroot()\n",
    "\n",
    "print(root)\n",
    "print(type(root))"
   ]
  },
  {
   "cell_type": "markdown",
   "metadata": {},
   "source": [
    "Все элементы дерева являются итерируемыми, т.е. по их вложенным элементам можно пройтись в цикле."
   ]
  },
  {
   "cell_type": "code",
   "execution_count": 4,
   "metadata": {},
   "outputs": [
    {
     "data": {
      "text/plain": [
       "[<Element 'Certificates' at 0x108f95408>,\n",
       " <Element 'User' at 0x108f954f8>,\n",
       " <Element 'Brand' at 0x108f95548>,\n",
       " <Element 'Displacement' at 0x108f95598>,\n",
       " <Element 'DateOfMileage' at 0x108f955e8>,\n",
       " <Element 'Model' at 0x108f95638>,\n",
       " <Element 'Count' at 0x108f95688>,\n",
       " <Element 'SteeringWheelPlacement' at 0x108f956d8>,\n",
       " <Element 'LeasingInformations' at 0x108f95728>,\n",
       " <Element 'VehicleType' at 0x108f95778>,\n",
       " <Element 'Mileage' at 0x108f957c8>,\n",
       " <Element 'Year' at 0x108f95818>,\n",
       " <Element 'Accidents' at 0x108f95868>,\n",
       " <Element 'Taxi' at 0x108f95ae8>,\n",
       " <Element 'EngineNumber' at 0x108f95b38>,\n",
       " <Element 'Leasing' at 0x108f95b88>,\n",
       " <Element 'SpecialArea' at 0x108f95bd8>,\n",
       " <Element 'Customs' at 0x108f95c28>,\n",
       " <Element 'Removed' at 0x108f95c78>,\n",
       " <Element 'Utilisation' at 0x108f95cc8>,\n",
       " <Element 'EngineType' at 0x108f95d18>,\n",
       " <Element 'Power' at 0x108f95d68>,\n",
       " <Element 'Stealing' at 0x108f95db8>,\n",
       " <Element 'MarkaRus' at 0x108f95e08>,\n",
       " <Element 'VehicleTypeNumber' at 0x108f95e58>,\n",
       " <Element 'Category' at 0x108f95ea8>,\n",
       " <Element 'State' at 0x108f95f48>,\n",
       " <Element 'NettoWeight' at 0x108f95f98>,\n",
       " <Element 'Price' at 0x108f9a048>,\n",
       " <Element 'IsCustoms' at 0x108f9a098>,\n",
       " <Element 'TaxiInformations' at 0x108f9a0e8>,\n",
       " <Element 'Results' at 0x108f9a138>,\n",
       " <Element 'MaxWeight' at 0x108fa0cc8>,\n",
       " <Element 'ChassisNumber' at 0x108fa0d18>]"
      ]
     },
     "execution_count": 4,
     "metadata": {},
     "output_type": "execute_result"
    }
   ],
   "source": [
    "elements = []\n",
    "\n",
    "for element in xml_file_1.getroot():\n",
    "    elements.append(element)\n",
    "    \n",
    "elements"
   ]
  },
  {
   "cell_type": "markdown",
   "metadata": {},
   "source": [
    "Ниже представлены все атрибуты объекта класса **Element**."
   ]
  },
  {
   "cell_type": "markdown",
   "metadata": {},
   "source": [
    "Атрибуты класса Element                | Описание\n",
    ":------------------------------|:------------------------------------\n",
    "attrib | Словарь, содержащий все атрибуты узла XML, в котором ключами являются строки, содержащие имена атрибутов\n",
    "tag    | Тег узла (строка)\n",
    "tail   | Произвольные данные (строка), следующие непосредственно за элементом (имеются ввиду данные не в тегах)\n",
    "text   | Произвольные данные (строка), находящиеся непосредственно внутри элемента (имеются ввиду данные не в тегах)"
   ]
  },
  {
   "cell_type": "code",
   "execution_count": 5,
   "metadata": {},
   "outputs": [],
   "source": [
    "results = elements[-3]"
   ]
  },
  {
   "cell_type": "code",
   "execution_count": 6,
   "metadata": {},
   "outputs": [
    {
     "data": {
      "text/plain": [
       "{'id': 'results', 'name': 'RES'}"
      ]
     },
     "execution_count": 6,
     "metadata": {},
     "output_type": "execute_result"
    }
   ],
   "source": [
    "results.attrib"
   ]
  },
  {
   "cell_type": "code",
   "execution_count": 7,
   "metadata": {},
   "outputs": [
    {
     "data": {
      "text/plain": [
       "'Results'"
      ]
     },
     "execution_count": 7,
     "metadata": {},
     "output_type": "execute_result"
    }
   ],
   "source": [
    "results.tag"
   ]
  },
  {
   "cell_type": "code",
   "execution_count": 8,
   "metadata": {},
   "outputs": [
    {
     "data": {
      "text/plain": [
       "'Привет\\n\\t'"
      ]
     },
     "execution_count": 8,
     "metadata": {},
     "output_type": "execute_result"
    }
   ],
   "source": [
    "results.tail"
   ]
  },
  {
   "cell_type": "code",
   "execution_count": 9,
   "metadata": {},
   "outputs": [
    {
     "data": {
      "text/plain": [
       "'\\n\\t\\t'"
      ]
     },
     "execution_count": 9,
     "metadata": {},
     "output_type": "execute_result"
    }
   ],
   "source": [
    "results.text"
   ]
  },
  {
   "cell_type": "markdown",
   "metadata": {},
   "source": [
    "Ниже рассмотрены отображены только те методы, которые **НЕ** изменяют XML структуру, а только позволяют **ПОЛУЧИТЬ** данные из нее."
   ]
  },
  {
   "cell_type": "markdown",
   "metadata": {},
   "source": [
    "Методы класса Element                | Описание\n",
    ":------------------------------|:------------------------------------\n",
    "get(key, default = None)     | Возвращает значение атрибута элемента *key*, если не найден возвращает *default*\n",
    "items()                      | Возвращает список кортежей (name, value) для всех атрибутов элемента в произвольном порядке\n",
    "keys()                       | Возвращает список имен всех атрибутов элемента в произвольном порядке"
   ]
  },
  {
   "cell_type": "code",
   "execution_count": 10,
   "metadata": {},
   "outputs": [
    {
     "data": {
      "text/plain": [
       "'RES'"
      ]
     },
     "execution_count": 10,
     "metadata": {},
     "output_type": "execute_result"
    }
   ],
   "source": [
    "results.get('name')"
   ]
  },
  {
   "cell_type": "code",
   "execution_count": 11,
   "metadata": {},
   "outputs": [
    {
     "data": {
      "text/plain": [
       "[('id', 'results'), ('name', 'RES')]"
      ]
     },
     "execution_count": 11,
     "metadata": {},
     "output_type": "execute_result"
    }
   ],
   "source": [
    "results.items()"
   ]
  },
  {
   "cell_type": "code",
   "execution_count": 12,
   "metadata": {},
   "outputs": [
    {
     "data": {
      "text/plain": [
       "['id', 'name']"
      ]
     },
     "execution_count": 12,
     "metadata": {},
     "output_type": "execute_result"
    }
   ],
   "source": [
    "results.keys()"
   ]
  },
  {
   "cell_type": "markdown",
   "metadata": {},
   "source": [
    "Остальные методы элемента работают с дочерними элементами."
   ]
  },
  {
   "cell_type": "markdown",
   "metadata": {},
   "source": [
    "Методы класса Element                | Описание\n",
    ":------------------------------|:------------------------------------\n",
    "find(match, namespaces = None) | Возвращает первого потомка, соответствующего *match* (имя тега), при отсутствии потомка возвращает **None**. Агрумент *namespaces* указывает в каком пространстве имен XML следует искать имя (см. документацию).\n",
    "findall(match, namespaces = None) | Возвращает список всех потомков, соответствующих аргументу *martch* (имя тега), при отсутствии потомков, возвращает пустой список.\n",
    "findtext(match, default = None, namespaces = None) | Возвращает текст первого потомка, соответствующего аргументу *martch* (имя тега), при отстуствии текста у первого потомка возвращается пустая строка. В отсутствии потомков возвращается значение *default*. Агрумент *namespaces* указывает в каком пространстве имен XML следует искать имя (см. документацию).\n",
    "iter(tag='\\*') | Возвращает итератор, соверщающий обход всех потомков в порядке \"сначала в глубину\", если аргумент *tag* не равен '\\*', то возвращает только те элементы тег которых равен *tag*  "
   ]
  },
  {
   "cell_type": "code",
   "execution_count": 13,
   "metadata": {},
   "outputs": [
    {
     "name": "stdout",
     "output_type": "stream",
     "text": [
      "<Element 'Result' at 0x108f9a188>\n",
      "{'num': '3'}\n"
     ]
    }
   ],
   "source": [
    "print(results.find('Result'))\n",
    "print(results.find('Result').attrib)"
   ]
  },
  {
   "cell_type": "code",
   "execution_count": 19,
   "metadata": {},
   "outputs": [
    {
     "data": {
      "text/plain": [
       "[<Element 'Result' at 0x108f9a188>,\n",
       " <Element 'Result' at 0x108f9a598>,\n",
       " <Element 'Result' at 0x108f9a9a8>,\n",
       " <Element 'Result' at 0x108f9adb8>,\n",
       " <Element 'Result' at 0x108fa0368>,\n",
       " <Element 'Result' at 0x108fa08b8>]"
      ]
     },
     "execution_count": 19,
     "metadata": {},
     "output_type": "execute_result"
    }
   ],
   "source": [
    "results.findall('Result')"
   ]
  },
  {
   "cell_type": "code",
   "execution_count": 30,
   "metadata": {},
   "outputs": [
    {
     "name": "stdout",
     "output_type": "stream",
     "text": [
      "<Element 'dateOfLastOperation' at 0x108f9a228> - 31.08.2010\n",
      "<Element 'dateOfLastOperation' at 0x108f9a638> - 31.08.2010\n",
      "<Element 'dateOfLastOperation' at 0x108f9aa48> - 31.08.2010\n",
      "<Element 'dateOfLastOperation' at 0x108f9aea8> - 24.10.2015\n",
      "<Element 'dateOfLastOperation' at 0x108fa0458> - 12.09.2015\n",
      "<Element 'dateOfLastOperation' at 0x108fa0958> - 31.08.2010\n"
     ]
    }
   ],
   "source": [
    "for date in root.iter('dateOfLastOperation'):\n",
    "    print(f'{date} - {date.text}')"
   ]
  },
  {
   "cell_type": "markdown",
   "metadata": {},
   "source": [
    "Возможно вам удобнее работать больше с JSON форматом (всмысле со словарем), чем с XML. Рассмотрим превращение XML файла в словарь. Для этого можно использовать модуль **xmltodict**."
   ]
  },
  {
   "cell_type": "code",
   "execution_count": 41,
   "metadata": {},
   "outputs": [],
   "source": [
    "import xmltodict"
   ]
  },
  {
   "cell_type": "markdown",
   "metadata": {},
   "source": [
    "Модуль **xmltodict** также имеет метод **parse**, однако здесь метод принимает на вход текстовое представление XML файла."
   ]
  },
  {
   "cell_type": "code",
   "execution_count": 30,
   "metadata": {},
   "outputs": [],
   "source": [
    "with open('Materials_fourth_lecture/xml/example_1.xml') as file:\n",
    "    dict_from_xml = xmltodict.parse(file.read())"
   ]
  },
  {
   "cell_type": "code",
   "execution_count": 31,
   "metadata": {},
   "outputs": [
    {
     "data": {
      "text/plain": [
       "OrderedDict([('ROOT',\n",
       "              OrderedDict([('Certificates', 'null'),\n",
       "                           ('User', 'renins'),\n",
       "                           ('Brand', 'HONDA'),\n",
       "                           ('Displacement', '1997'),\n",
       "                           ('DateOfMileage', '-'),\n",
       "                           ('Model', 'CR-V'),\n",
       "                           ('Count', '6'),\n",
       "                           ('SteeringWheelPlacement', '1'),\n",
       "                           ('LeasingInformations', None),\n",
       "                           ('VehicleType', 'PC'),\n",
       "                           ('Mileage', '-'),\n",
       "                           ('Year', '2010'),\n",
       "                           ('Accidents',\n",
       "                            OrderedDict([('Accident',\n",
       "                                          OrderedDict([('@num', '1'),\n",
       "                                                       ('region',\n",
       "                                                        'Республика Татарстан'),\n",
       "                                                       ('vehicleDamageState',\n",
       "                                                        'Повреждено'),\n",
       "                                                       ('damagePoints',\n",
       "                                                        '114,115'),\n",
       "                                                       ('accidentNumber',\n",
       "                                                        '920101960'),\n",
       "                                                       ('accidentType',\n",
       "                                                        'Столкновение'),\n",
       "                                                       ('accidentDateTime',\n",
       "                                                        '26.12.2017 23:16')]))])),\n",
       "                           ('Taxi', 'false'),\n",
       "                           ('EngineNumber', '4012804'),\n",
       "                           ('Leasing', 'false'),\n",
       "                           ('SpecialArea', 'false'),\n",
       "                           ('Customs', None),\n",
       "                           ('Removed', 'false'),\n",
       "                           ('Utilisation', 'false'),\n",
       "                           ('EngineType', '1'),\n",
       "                           ('Power', '150'),\n",
       "                           ('Stealing', 'false'),\n",
       "                           ('MarkaRus', 'ХОНДА  СR-V'),\n",
       "                           ('VehicleTypeNumber', '29'),\n",
       "                           ('Category', 'В'),\n",
       "                           ('State', 'OK'),\n",
       "                           ('NettoWeight', '1605'),\n",
       "                           ('Price', '804210,00'),\n",
       "                           ('IsCustoms', 'false'),\n",
       "                           ('TaxiInformations', None),\n",
       "                           ('Results',\n",
       "                            OrderedDict([('Result',\n",
       "                                          [OrderedDict([('@num', '3'),\n",
       "                                                        ('region',\n",
       "                                                         'ОКТЯБРЬСКИЙ'),\n",
       "                                                        ('dateOfLastOperation',\n",
       "                                                         '31.08.2010'),\n",
       "                                                        ('area', '430000'),\n",
       "                                                        ('dateOfFirstRegistration',\n",
       "                                                         '31.08.2010'),\n",
       "                                                        ('street', '-'),\n",
       "                                                        ('oblast',\n",
       "                                                         'Республика\\u3000Мордовия'),\n",
       "                                                        ('okrug',\n",
       "                                                         'Приволжский'),\n",
       "                                                        ('type', 'park'),\n",
       "                                                        ('city', 'САРАНСК'),\n",
       "                                                        ('categoryOfOwner',\n",
       "                                                         '2'),\n",
       "                                                        ('codeOfTechOperation',\n",
       "                                                         '11'),\n",
       "                                                        ('country', 'RU')]),\n",
       "                                           OrderedDict([('@num', '2'),\n",
       "                                                        ('region',\n",
       "                                                         'ОКТЯБРЬСКИЙ'),\n",
       "                                                        ('dateOfLastOperation',\n",
       "                                                         '31.08.2010'),\n",
       "                                                        ('area', '430000'),\n",
       "                                                        ('dateOfFirstRegistration',\n",
       "                                                         '31.08.2010'),\n",
       "                                                        ('street', '-'),\n",
       "                                                        ('oblast',\n",
       "                                                         'Республика\\u3000Мордовия'),\n",
       "                                                        ('okrug',\n",
       "                                                         'Приволжский'),\n",
       "                                                        ('type', 'park'),\n",
       "                                                        ('city', 'САРАНСК'),\n",
       "                                                        ('categoryOfOwner',\n",
       "                                                         '2'),\n",
       "                                                        ('codeOfTechOperation',\n",
       "                                                         '11'),\n",
       "                                                        ('country', 'RU')]),\n",
       "                                           OrderedDict([('@num', '1'),\n",
       "                                                        ('region',\n",
       "                                                         'ОКТЯБРЬСКИЙ'),\n",
       "                                                        ('dateOfLastOperation',\n",
       "                                                         '31.08.2010'),\n",
       "                                                        ('area', '430000'),\n",
       "                                                        ('dateOfFirstRegistration',\n",
       "                                                         '31.08.2010'),\n",
       "                                                        ('street', '-'),\n",
       "                                                        ('oblast',\n",
       "                                                         'Республика Мордовия'),\n",
       "                                                        ('okrug',\n",
       "                                                         'Приволжский'),\n",
       "                                                        ('type', 'park'),\n",
       "                                                        ('city', 'САРАНСК'),\n",
       "                                                        ('categoryOfOwner',\n",
       "                                                         '2'),\n",
       "                                                        ('codeOfTechOperation',\n",
       "                                                         '11'),\n",
       "                                                        ('country', 'RU')]),\n",
       "                                           OrderedDict([('@num', '6'),\n",
       "                                                        ('inn', '-'),\n",
       "                                                        ('region',\n",
       "                                                         'НОВОСАВИНОВСКИЙ'),\n",
       "                                                        ('dateOfLastOperation',\n",
       "                                                         '24.10.2015'),\n",
       "                                                        ('street', '-'),\n",
       "                                                        ('oblast',\n",
       "                                                         'Республика\\u3000Татарстан'),\n",
       "                                                        ('okrug',\n",
       "                                                         'Приволжский'),\n",
       "                                                        ('house', '-'),\n",
       "                                                        ('type',\n",
       "                                                         'registration'),\n",
       "                                                        ('appartment', '-'),\n",
       "                                                        ('city',\n",
       "                                                         '.\\u3000КАЗАНЬ'),\n",
       "                                                        ('country', 'RU'),\n",
       "                                                        ('codeOfTechOperation',\n",
       "                                                         '94'),\n",
       "                                                        ('area', '420136'),\n",
       "                                                        ('dateOfFirstRegistration',\n",
       "                                                         '31.08.2010'),\n",
       "                                                        ('owner',\n",
       "                                                         'ФИЗ\\u3000ЛИЦО'),\n",
       "                                                        ('categoryOfOwner',\n",
       "                                                         '2')]),\n",
       "                                           OrderedDict([('@num', '5'),\n",
       "                                                        ('inn', '-'),\n",
       "                                                        ('region', '-'),\n",
       "                                                        ('dateOfLastOperation',\n",
       "                                                         '12.09.2015'),\n",
       "                                                        ('street', '-'),\n",
       "                                                        ('oblast',\n",
       "                                                         'Республика\\u3000Татарстан'),\n",
       "                                                        ('okrug',\n",
       "                                                         'Приволжский'),\n",
       "                                                        ('house', '-'),\n",
       "                                                        ('type',\n",
       "                                                         'registration'),\n",
       "                                                        ('appartment', '-'),\n",
       "                                                        ('city',\n",
       "                                                         'Г.\\u3000САРАНСК'),\n",
       "                                                        ('country', 'RU'),\n",
       "                                                        ('codeOfTechOperation',\n",
       "                                                         '41'),\n",
       "                                                        ('area', '430000'),\n",
       "                                                        ('dateOfFirstRegistration',\n",
       "                                                         '31.08.2010'),\n",
       "                                                        ('owner',\n",
       "                                                         'ФИЗ\\u3000ЛИЦО'),\n",
       "                                                        ('categoryOfOwner',\n",
       "                                                         '2')]),\n",
       "                                           OrderedDict([('@num', '4'),\n",
       "                                                        ('region',\n",
       "                                                         'ОКТЯБРЬСКИЙ'),\n",
       "                                                        ('dateOfLastOperation',\n",
       "                                                         '31.08.2010'),\n",
       "                                                        ('area', '430000'),\n",
       "                                                        ('dateOfFirstRegistration',\n",
       "                                                         '31.08.2010'),\n",
       "                                                        ('street', '-'),\n",
       "                                                        ('oblast',\n",
       "                                                         'Республика\\u3000Мордовия'),\n",
       "                                                        ('okrug',\n",
       "                                                         'Приволжский'),\n",
       "                                                        ('type', 'park'),\n",
       "                                                        ('city', 'САРАНСК'),\n",
       "                                                        ('categoryOfOwner',\n",
       "                                                         '2'),\n",
       "                                                        ('codeOfTechOperation',\n",
       "                                                         '11'),\n",
       "                                                        ('country',\n",
       "                                                         'RU')])])])),\n",
       "                           ('MaxWeight', '2080'),\n",
       "                           ('ChassisNumber', '-')]))])"
      ]
     },
     "execution_count": 31,
     "metadata": {},
     "output_type": "execute_result"
    }
   ],
   "source": [
    "dict_from_xml"
   ]
  },
  {
   "cell_type": "markdown",
   "metadata": {},
   "source": [
    "Не пугайтесь слов - **OrderedDict**. Это тоже словарь, просто который фиксирует порядок ключей."
   ]
  },
  {
   "cell_type": "code",
   "execution_count": 32,
   "metadata": {},
   "outputs": [
    {
     "data": {
      "text/plain": [
       "'HONDA'"
      ]
     },
     "execution_count": 32,
     "metadata": {},
     "output_type": "execute_result"
    }
   ],
   "source": [
    "dict_from_xml['ROOT']['Brand']"
   ]
  },
  {
   "cell_type": "markdown",
   "metadata": {},
   "source": [
    "<img src=\"Image_fourth_lecture/files_end.jpg\" alt=\"XML\" width=\"900\">"
   ]
  },
  {
   "cell_type": "code",
   "execution_count": 42,
   "metadata": {},
   "outputs": [],
   "source": [
    "with open('Materials_fourth_lecture/xml/example_3.xml') as file:\n",
    "    dict_from_xml = xmltodict.parse(file.read())"
   ]
  },
  {
   "cell_type": "code",
   "execution_count": 44,
   "metadata": {},
   "outputs": [],
   "source": [
    "import json"
   ]
  },
  {
   "cell_type": "code",
   "execution_count": 73,
   "metadata": {},
   "outputs": [],
   "source": [
    "with open('Materials_fourth_lecture/json/example_1.json', 'w') as file:\n",
    "    json.dump(dict_from_xml, file, ensure_ascii=False)"
   ]
  },
  {
   "cell_type": "code",
   "execution_count": 43,
   "metadata": {},
   "outputs": [
    {
     "data": {
      "text/plain": [
       "OrderedDict([('ROOT',\n",
       "              OrderedDict([('Certificates', 'null'),\n",
       "                           ('User', 'renins'),\n",
       "                           ('Brand', 'HYUNDAI'),\n",
       "                           ('Displacement', '2656'),\n",
       "                           ('DateOfMileage', '-'),\n",
       "                           ('Model', 'HYUNDAI SANTA FE'),\n",
       "                           ('Count', '11'),\n",
       "                           ('SteeringWheelPlacement', '-'),\n",
       "                           ('LeasingInformations', None),\n",
       "                           ('VehicleType', 'PC'),\n",
       "                           ('Mileage', '-'),\n",
       "                           ('Year', '2007'),\n",
       "                           ('Accidents', None),\n",
       "                           ('Taxi', 'false'),\n",
       "                           ('EngineNumber', '7А999471'),\n",
       "                           ('Leasing', 'false'),\n",
       "                           ('SpecialArea', 'false'),\n",
       "                           ('Customs', None),\n",
       "                           ('Removed', 'false'),\n",
       "                           ('Utilisation', 'false'),\n",
       "                           ('EngineType', '-'),\n",
       "                           ('Power', '189'),\n",
       "                           ('Stealing', 'false'),\n",
       "                           ('MarkaRus', 'НУUNDАI SАNТА'),\n",
       "                           ('VehicleTypeNumber', '9'),\n",
       "                           ('Category', 'В'),\n",
       "                           ('State', 'OK'),\n",
       "                           ('NettoWeight', '-'),\n",
       "                           ('Price', '615476,00'),\n",
       "                           ('IsCustoms', 'false'),\n",
       "                           ('TaxiInformations', None),\n",
       "                           ('Results',\n",
       "                            OrderedDict([('Result',\n",
       "                                          [OrderedDict([('@num', '3'),\n",
       "                                                        ('region',\n",
       "                                                         'СТАРООСКОЛЬСКИЙ'),\n",
       "                                                        ('dateOfLastOperation',\n",
       "                                                         '21.12.2007'),\n",
       "                                                        ('area', '309500'),\n",
       "                                                        ('dateOfFirstRegistration',\n",
       "                                                         '21.12.2007'),\n",
       "                                                        ('street', '-'),\n",
       "                                                        ('oblast',\n",
       "                                                         'Белгородская область'),\n",
       "                                                        ('okrug',\n",
       "                                                         'Центральный'),\n",
       "                                                        ('type', 'park'),\n",
       "                                                        ('city',\n",
       "                                                         'СТАРЫЙ ОСКОЛ Г'),\n",
       "                                                        ('categoryOfOwner',\n",
       "                                                         '2'),\n",
       "                                                        ('codeOfTechOperation',\n",
       "                                                         '12'),\n",
       "                                                        ('country', 'RU')]),\n",
       "                                           OrderedDict([('@num', '2'),\n",
       "                                                        ('region',\n",
       "                                                         'СТАРООСКОЛЬСКИЙ'),\n",
       "                                                        ('dateOfLastOperation',\n",
       "                                                         '21.12.2007'),\n",
       "                                                        ('area', '309500'),\n",
       "                                                        ('dateOfFirstRegistration',\n",
       "                                                         '21.12.2007'),\n",
       "                                                        ('street', '-'),\n",
       "                                                        ('oblast',\n",
       "                                                         'Белгородская область'),\n",
       "                                                        ('okrug',\n",
       "                                                         'Центральный'),\n",
       "                                                        ('type', 'park'),\n",
       "                                                        ('city',\n",
       "                                                         'СТАРЫЙ ОСКОЛ Г'),\n",
       "                                                        ('categoryOfOwner',\n",
       "                                                         '2'),\n",
       "                                                        ('codeOfTechOperation',\n",
       "                                                         '12'),\n",
       "                                                        ('country', 'RU')]),\n",
       "                                           OrderedDict([('@num', '10'),\n",
       "                                                        ('inn', '-'),\n",
       "                                                        ('region',\n",
       "                                                         'ДАГЕСТАНСКИЕ\\u3000ОГНИ'),\n",
       "                                                        ('dateOfLastOperation',\n",
       "                                                         '10.07.2015'),\n",
       "                                                        ('street', '-'),\n",
       "                                                        ('oblast',\n",
       "                                                         'Республика\\u3000Дагестан'),\n",
       "                                                        ('okrug',\n",
       "                                                         'Северо-Кавказский'),\n",
       "                                                        ('house', '-'),\n",
       "                                                        ('type',\n",
       "                                                         'registration'),\n",
       "                                                        ('appartment', '-'),\n",
       "                                                        ('city',\n",
       "                                                         'ДАГ\\u3000ОГНИ\\u3000Г'),\n",
       "                                                        ('country', 'RU'),\n",
       "                                                        ('codeOfTechOperation',\n",
       "                                                         '94'),\n",
       "                                                        ('area', '368670'),\n",
       "                                                        ('dateOfFirstRegistration',\n",
       "                                                         '10.07.2015'),\n",
       "                                                        ('owner',\n",
       "                                                         'ФИЗ\\u3000ЛИЦО'),\n",
       "                                                        ('categoryOfOwner',\n",
       "                                                         '2')]),\n",
       "                                           OrderedDict([('@num', '1'),\n",
       "                                                        ('region',\n",
       "                                                         'СТ.ОСКОЛЬСКИЙ'),\n",
       "                                                        ('dateOfLastOperation',\n",
       "                                                         '21.12.2007'),\n",
       "                                                        ('area', '309500'),\n",
       "                                                        ('dateOfFirstRegistration',\n",
       "                                                         '21.12.2007'),\n",
       "                                                        ('street', '-'),\n",
       "                                                        ('oblast',\n",
       "                                                         'Белгородская область'),\n",
       "                                                        ('okrug',\n",
       "                                                         'Центральный'),\n",
       "                                                        ('type', 'park'),\n",
       "                                                        ('city',\n",
       "                                                         'СТАРЫЙ ОСКОЛ Г.'),\n",
       "                                                        ('categoryOfOwner',\n",
       "                                                         '2'),\n",
       "                                                        ('codeOfTechOperation',\n",
       "                                                         '11'),\n",
       "                                                        ('country', 'RU')]),\n",
       "                                           OrderedDict([('@num', '7'),\n",
       "                                                        ('inn', '-'),\n",
       "                                                        ('region',\n",
       "                                                         'ОКТЯБРЬСКИЙ'),\n",
       "                                                        ('dateOfLastOperation',\n",
       "                                                         '28.11.2014'),\n",
       "                                                        ('street', '-'),\n",
       "                                                        ('oblast',\n",
       "                                                         'Калужская\\u3000область'),\n",
       "                                                        ('okrug',\n",
       "                                                         'Центральный'),\n",
       "                                                        ('house', '-'),\n",
       "                                                        ('type',\n",
       "                                                         'registration'),\n",
       "                                                        ('appartment', '-'),\n",
       "                                                        ('city',\n",
       "                                                         'Г.\\u3000КАЛУГА'),\n",
       "                                                        ('country', 'RU'),\n",
       "                                                        ('codeOfTechOperation',\n",
       "                                                         '94'),\n",
       "                                                        ('area', '248000'),\n",
       "                                                        ('dateOfFirstRegistration',\n",
       "                                                         '28.11.2014'),\n",
       "                                                        ('owner',\n",
       "                                                         'ФИЗ\\u3000ЛИЦО'),\n",
       "                                                        ('categoryOfOwner',\n",
       "                                                         '2')]),\n",
       "                                           OrderedDict([('@num', '6'),\n",
       "                                                        ('region',\n",
       "                                                         'СТАРООСКОЛЬСКИЙ'),\n",
       "                                                        ('dateOfLastOperation',\n",
       "                                                         '21.12.2007'),\n",
       "                                                        ('area', '309500'),\n",
       "                                                        ('dateOfFirstRegistration',\n",
       "                                                         '21.12.2007'),\n",
       "                                                        ('street', '-'),\n",
       "                                                        ('oblast',\n",
       "                                                         'Белгородская\\u3000область'),\n",
       "                                                        ('okrug',\n",
       "                                                         'Центральный'),\n",
       "                                                        ('type', 'park'),\n",
       "                                                        ('city',\n",
       "                                                         'СТАРЫЙ\\u3000ОСКОЛ\\u3000Г'),\n",
       "                                                        ('categoryOfOwner',\n",
       "                                                         '2'),\n",
       "                                                        ('codeOfTechOperation',\n",
       "                                                         '12'),\n",
       "                                                        ('country', 'RU')]),\n",
       "                                           OrderedDict([('@num', '5'),\n",
       "                                                        ('region',\n",
       "                                                         'СТАРООСКОЛЬСКИЙ'),\n",
       "                                                        ('dateOfLastOperation',\n",
       "                                                         '21.12.2007'),\n",
       "                                                        ('area', '309500'),\n",
       "                                                        ('dateOfFirstRegistration',\n",
       "                                                         '21.12.2007'),\n",
       "                                                        ('street', '-'),\n",
       "                                                        ('oblast',\n",
       "                                                         'Белгородская\\u3000область'),\n",
       "                                                        ('okrug',\n",
       "                                                         'Центральный'),\n",
       "                                                        ('type', 'park'),\n",
       "                                                        ('city',\n",
       "                                                         'СТАРЫЙ\\u3000ОСКОЛ\\u3000Г'),\n",
       "                                                        ('categoryOfOwner',\n",
       "                                                         '2'),\n",
       "                                                        ('codeOfTechOperation',\n",
       "                                                         '12'),\n",
       "                                                        ('country', 'RU')]),\n",
       "                                           OrderedDict([('@num', '4'),\n",
       "                                                        ('region',\n",
       "                                                         'СТАРООСКОЛЬСКИЙ'),\n",
       "                                                        ('dateOfLastOperation',\n",
       "                                                         '21.12.2007'),\n",
       "                                                        ('area', '309500'),\n",
       "                                                        ('dateOfFirstRegistration',\n",
       "                                                         '21.12.2007'),\n",
       "                                                        ('street', '-'),\n",
       "                                                        ('oblast',\n",
       "                                                         'Белгородская\\u3000область'),\n",
       "                                                        ('okrug',\n",
       "                                                         'Центральный'),\n",
       "                                                        ('type', 'park'),\n",
       "                                                        ('city',\n",
       "                                                         'СТАРЫЙ\\u3000ОСКОЛ\\u3000Г'),\n",
       "                                                        ('categoryOfOwner',\n",
       "                                                         '2'),\n",
       "                                                        ('codeOfTechOperation',\n",
       "                                                         '12'),\n",
       "                                                        ('country', 'RU')]),\n",
       "                                           OrderedDict([('@num', '9'),\n",
       "                                                        ('inn', '-'),\n",
       "                                                        ('region',\n",
       "                                                         'ОРДЖОНИКИДЗЕВСКИЙ\\u3000\\u3000Р-Н'),\n",
       "                                                        ('dateOfLastOperation',\n",
       "                                                         '26.05.2015'),\n",
       "                                                        ('street', '-'),\n",
       "                                                        ('oblast',\n",
       "                                                         'Пермский\\u3000край'),\n",
       "                                                        ('okrug',\n",
       "                                                         'Приволжский'),\n",
       "                                                        ('house', '-'),\n",
       "                                                        ('type',\n",
       "                                                         'registration'),\n",
       "                                                        ('appartment', '-'),\n",
       "                                                        ('city',\n",
       "                                                         'ПЕРМЬ\\u3000Г'),\n",
       "                                                        ('country', 'RU'),\n",
       "                                                        ('codeOfTechOperation',\n",
       "                                                         '94'),\n",
       "                                                        ('area', '614047'),\n",
       "                                                        ('dateOfFirstRegistration',\n",
       "                                                         '01.01.0001'),\n",
       "                                                        ('owner',\n",
       "                                                         'ФИЗ\\u3000ЛИЦО'),\n",
       "                                                        ('categoryOfOwner',\n",
       "                                                         '2')]),\n",
       "                                           OrderedDict([('@num', '8'),\n",
       "                                                        ('inn', '-'),\n",
       "                                                        ('region', 'КАСПИЙСК'),\n",
       "                                                        ('dateOfLastOperation',\n",
       "                                                         '14.03.2015'),\n",
       "                                                        ('street', '-'),\n",
       "                                                        ('oblast',\n",
       "                                                         'Республика\\u3000Дагестан'),\n",
       "                                                        ('okrug',\n",
       "                                                         'Северо-Кавказский'),\n",
       "                                                        ('house', '-'),\n",
       "                                                        ('type',\n",
       "                                                         'registration'),\n",
       "                                                        ('appartment', '-'),\n",
       "                                                        ('city',\n",
       "                                                         'КАСПИЙСК\\u3000Г'),\n",
       "                                                        ('country', 'RU'),\n",
       "                                                        ('codeOfTechOperation',\n",
       "                                                         '94'),\n",
       "                                                        ('area', '368300'),\n",
       "                                                        ('dateOfFirstRegistration',\n",
       "                                                         '14.03.2015'),\n",
       "                                                        ('owner',\n",
       "                                                         'ФИЗ\\u3000ЛИЦО'),\n",
       "                                                        ('categoryOfOwner',\n",
       "                                                         '2')]),\n",
       "                                           OrderedDict([('@num', '11'),\n",
       "                                                        ('inn', '-'),\n",
       "                                                        ('region',\n",
       "                                                         'ДЕРБЕНТСКИЙ\\u3000Р-Н.'),\n",
       "                                                        ('dateOfLastOperation',\n",
       "                                                         '11.10.2017'),\n",
       "                                                        ('street', '-'),\n",
       "                                                        ('oblast',\n",
       "                                                         'Республика\\u3000Дагестан'),\n",
       "                                                        ('okrug',\n",
       "                                                         'Северо-Кавказский'),\n",
       "                                                        ('house', '-'),\n",
       "                                                        ('type',\n",
       "                                                         'registration'),\n",
       "                                                        ('appartment', '-'),\n",
       "                                                        ('city',\n",
       "                                                         'С\\u3000ХАЗАР'),\n",
       "                                                        ('country', 'RU'),\n",
       "                                                        ('codeOfTechOperation',\n",
       "                                                         '94'),\n",
       "                                                        ('area', '368612'),\n",
       "                                                        ('dateOfFirstRegistration',\n",
       "                                                         '11.10.2017'),\n",
       "                                                        ('owner',\n",
       "                                                         'ФИЗ\\u3000ЛИЦО'),\n",
       "                                                        ('categoryOfOwner',\n",
       "                                                         '2')])])])),\n",
       "                           ('MaxWeight', '-'),\n",
       "                           ('ChassisNumber', '-')]))])"
      ]
     },
     "execution_count": 43,
     "metadata": {},
     "output_type": "execute_result"
    }
   ],
   "source": [
    "dict_from_xml"
   ]
  },
  {
   "cell_type": "code",
   "execution_count": null,
   "metadata": {},
   "outputs": [],
   "source": []
  }
 ],
 "metadata": {
  "kernelspec": {
   "display_name": "Python 3",
   "language": "python",
   "name": "python3"
  },
  "language_info": {
   "codemirror_mode": {
    "name": "ipython",
    "version": 3
   },
   "file_extension": ".py",
   "mimetype": "text/x-python",
   "name": "python",
   "nbconvert_exporter": "python",
   "pygments_lexer": "ipython3",
   "version": "3.7.1"
  }
 },
 "nbformat": 4,
 "nbformat_minor": 2
}
