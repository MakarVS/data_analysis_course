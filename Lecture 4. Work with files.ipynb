{
 "cells": [
  {
   "cell_type": "markdown",
   "metadata": {},
   "source": [
    "<table>\n",
    "<tr style=\"background:transparent\">\n",
    " <td><font size=\"7\" face=\"serif\"><b>Курс анализа данных на Python</b></font></td>   \n",
    " <td><img src=\"Image_fourth_lecture/Unknown.png\" alt=\"Змейка\" width=\"200\" height=\"100\"></td>\n",
    "</tr>\n",
    "</table>"
   ]
  },
  {
   "cell_type": "markdown",
   "metadata": {},
   "source": [
    "<img src=\"Image_fourth_lecture/logs.jpg\" alt=\"Логи\" width=\"800\">"
   ]
  },
  {
   "cell_type": "markdown",
   "metadata": {},
   "source": [
    "<center><font size=\"6\" face=\"serif\"><b>Работа с файлами в Python</b></font></center>"
   ]
  },
  {
   "cell_type": "markdown",
   "metadata": {},
   "source": [
    "## Навигация"
   ]
  },
  {
   "cell_type": "markdown",
   "metadata": {},
   "source": [
    "[Тестовые файлы](#text)\n",
    "\n",
    "[JSON файлы](#json)\n",
    "\n",
    "[XML файлы](#xml)"
   ]
  },
  {
   "cell_type": "markdown",
   "metadata": {},
   "source": [
    "### Текстовые файлы <a class=\"anchor\" id=\"text\"></a>"
   ]
  },
  {
   "cell_type": "markdown",
   "metadata": {},
   "source": [
    "<img src=\"Image_fourth_lecture/txt.jpg\" alt=\"XML\" width=\"500\">"
   ]
  },
  {
   "cell_type": "code",
   "execution_count": null,
   "metadata": {},
   "outputs": [],
   "source": []
  },
  {
   "cell_type": "markdown",
   "metadata": {},
   "source": [
    "Обычно работа с файлами осуществляется с помощью так называемого контекстного менеджера. Если коротко, то одна из фунциональностей (и главная для работы с файлами) заключается в выполнении каких либо действий до входа в блок и после выхода из него."
   ]
  },
  {
   "cell_type": "markdown",
   "metadata": {},
   "source": [
    "Синтаксис контекстного менеджера начинается с ключевого слова **with**. В работе с файлами он используется для того, чтобы не закрывать файл вручную. Вся работа с файлом происходит внутри блока **with**, по выходу из блока работа с файлом прекращается и он автоматически закрывается."
   ]
  },
  {
   "cell_type": "code",
   "execution_count": null,
   "metadata": {},
   "outputs": [],
   "source": [
    "with open('') as file:\n",
    "    "
   ]
  },
  {
   "cell_type": "markdown",
   "metadata": {},
   "source": [
    "### JSON файлы <a class=\"anchor\" id=\"json\"></a>"
   ]
  },
  {
   "cell_type": "markdown",
   "metadata": {},
   "source": [
    "<img src=\"Image_fourth_lecture/json.png\" alt=\"XML\" width=\"600\">"
   ]
  },
  {
   "cell_type": "code",
   "execution_count": null,
   "metadata": {},
   "outputs": [],
   "source": []
  },
  {
   "cell_type": "markdown",
   "metadata": {},
   "source": [
    "### XML файлы <a class=\"anchor\" id=\"xml\"></a>"
   ]
  },
  {
   "cell_type": "markdown",
   "metadata": {},
   "source": [
    "<img src=\"Image_fourth_lecture/xml.jpg\" alt=\"XML\" width=\"600\">"
   ]
  },
  {
   "cell_type": "markdown",
   "metadata": {},
   "source": [
    "**XML** - это язык разметки, предназначенный для хранения и передачи данных. XML файлы имеют **древовидную** структуру, которая всегда начинается с **корня**."
   ]
  },
  {
   "cell_type": "markdown",
   "metadata": {},
   "source": [
    "<img src=\"Image_fourth_lecture/xml_tree.png\" alt=\"XML\" width=\"900\">"
   ]
  },
  {
   "cell_type": "markdown",
   "metadata": {},
   "source": [
    "Элементы, заключенные в <> называются тегами. В XML разметке теги должны быть **открывающимися** и **закрывающимися** (в отличии от HTML, где теги могут быть одинарными, т.е. не закрывающимися). Также в отличие от HTML разметки, в XML мы сами придумываем теги, фактически мы создаем базу данных на минималке."
   ]
  },
  {
   "cell_type": "markdown",
   "metadata": {},
   "source": [
    "Каждый тег в XML может содержать атрибуты, которые состоят из пары и значения."
   ]
  },
  {
   "cell_type": "markdown",
   "metadata": {},
   "source": [
    "```\n",
    "<class>\n",
    "    <student id = \"1\">\n",
    "    </student>\n",
    "    \n",
    "    <student id = \"2\">\n",
    "    </student>\n",
    "</class>\n",
    "```"
   ]
  },
  {
   "cell_type": "markdown",
   "metadata": {},
   "source": [
    "В вышеприведенном примере **id** является атрибутом тега **student**."
   ]
  },
  {
   "cell_type": "markdown",
   "metadata": {},
   "source": [
    "Python имеет несколько модулей для работы с xml файлами, которые имеют перекрывающуюся функциональность. В данном курса будет рассматриваться самый популярный из них - стандартный модуль **ElementTree**, находящийся в библиотеке **xml.etree**."
   ]
  },
  {
   "cell_type": "code",
   "execution_count": 3,
   "metadata": {},
   "outputs": [],
   "source": [
    "from xml.etree import ElementTree as et"
   ]
  },
  {
   "cell_type": "markdown",
   "metadata": {},
   "source": [
    "Модуль **ElementTree** содержит в себе два фундаментальных класса - это класс, представляющий все XML дерево, **ElementTree** и класс, представляющий узел в дереве, **Element**."
   ]
  },
  {
   "cell_type": "markdown",
   "metadata": {},
   "source": [
    "Считаем XML файл с помощью метода **ElementTree.parse**."
   ]
  },
  {
   "cell_type": "code",
   "execution_count": 91,
   "metadata": {},
   "outputs": [],
   "source": [
    "xml_file_1 = et.parse('Materials_fourth_lecture/xml/example_1.xml')"
   ]
  },
  {
   "cell_type": "code",
   "execution_count": 92,
   "metadata": {},
   "outputs": [
    {
     "name": "stdout",
     "output_type": "stream",
     "text": [
      "<class 'xml.etree.ElementTree.ElementTree'>\n"
     ]
    }
   ],
   "source": [
    "print(type(xml_file_1))"
   ]
  },
  {
   "cell_type": "code",
   "execution_count": 93,
   "metadata": {},
   "outputs": [
    {
     "data": {
      "text/plain": [
       "[<Element 'Certificates' at 0x7f6a4d751ae8>,\n",
       " <Element 'User' at 0x7f6a4d751c28>,\n",
       " <Element 'Brand' at 0x7f6a4d751bd8>,\n",
       " <Element 'Displacement' at 0x7f6a4d751c78>,\n",
       " <Element 'DateOfMileage' at 0x7f6a4d751958>,\n",
       " <Element 'Model' at 0x7f6a4d751cc8>,\n",
       " <Element 'Count' at 0x7f6a4d751d18>,\n",
       " <Element 'SteeringWheelPlacement' at 0x7f6a4d751d68>,\n",
       " <Element 'LeasingInformations' at 0x7f6a4d751db8>,\n",
       " <Element 'VehicleType' at 0x7f6a4d751e08>,\n",
       " <Element 'Mileage' at 0x7f6a4d751e58>,\n",
       " <Element 'Year' at 0x7f6a4d751ea8>,\n",
       " <Element 'Accidents' at 0x7f6a4d751ef8>,\n",
       " <Element 'Taxi' at 0x7f6a4d7781d8>,\n",
       " <Element 'EngineNumber' at 0x7f6a4d778228>,\n",
       " <Element 'Leasing' at 0x7f6a4d778278>,\n",
       " <Element 'SpecialArea' at 0x7f6a4d7782c8>,\n",
       " <Element 'Customs' at 0x7f6a4d778318>,\n",
       " <Element 'Removed' at 0x7f6a4d778368>,\n",
       " <Element 'Utilisation' at 0x7f6a4d7783b8>,\n",
       " <Element 'EngineType' at 0x7f6a4d778408>,\n",
       " <Element 'Power' at 0x7f6a4d778458>,\n",
       " <Element 'Stealing' at 0x7f6a4d7784a8>,\n",
       " <Element 'MarkaRus' at 0x7f6a4d7784f8>,\n",
       " <Element 'VehicleTypeNumber' at 0x7f6a4d778548>,\n",
       " <Element 'Category' at 0x7f6a4d778598>,\n",
       " <Element 'State' at 0x7f6a4d778638>,\n",
       " <Element 'NettoWeight' at 0x7f6a4d778688>,\n",
       " <Element 'Price' at 0x7f6a4d7786d8>,\n",
       " <Element 'IsCustoms' at 0x7f6a4d778728>,\n",
       " <Element 'TaxiInformations' at 0x7f6a4d778778>,\n",
       " <Element 'Results' at 0x7f6a4d7787c8>,\n",
       " <Element 'MaxWeight' at 0x7f6a4d7413b8>,\n",
       " <Element 'ChassisNumber' at 0x7f6a4d741408>]"
      ]
     },
     "execution_count": 93,
     "metadata": {},
     "output_type": "execute_result"
    }
   ],
   "source": [
    "elements = []\n",
    "\n",
    "for element in xml_file_1.getroot():\n",
    "    elements.append(element)\n",
    "    \n",
    "elements"
   ]
  },
  {
   "cell_type": "markdown",
   "metadata": {},
   "source": [
    "Ниже представлены все атрибуты объекта класса **Element**."
   ]
  },
  {
   "cell_type": "markdown",
   "metadata": {},
   "source": [
    "Атрибуты класса Element                | Описание\n",
    ":------------------------------|:------------------------------------\n",
    "attrib | Словарь, содержащий все атрибуты узла XML, в котором ключами являются строки, содержащие имена атрибутов\n",
    "tag    | Тег узла (строка)\n",
    "tail   | Произвольные данные (строка), следующие непосредственно за элементом (имеются ввиду данные не в тегах)\n",
    "text   | Произвольные данные (строка), находящиеся непосредственно внутри элемента (имеются ввиду данные не в тегах)"
   ]
  },
  {
   "cell_type": "code",
   "execution_count": 94,
   "metadata": {},
   "outputs": [],
   "source": [
    "results = elements[-3]"
   ]
  },
  {
   "cell_type": "code",
   "execution_count": 95,
   "metadata": {},
   "outputs": [
    {
     "data": {
      "text/plain": [
       "{'id': 'results', 'name': 'RES'}"
      ]
     },
     "execution_count": 95,
     "metadata": {},
     "output_type": "execute_result"
    }
   ],
   "source": [
    "results.attrib"
   ]
  },
  {
   "cell_type": "code",
   "execution_count": 96,
   "metadata": {},
   "outputs": [
    {
     "data": {
      "text/plain": [
       "'Results'"
      ]
     },
     "execution_count": 96,
     "metadata": {},
     "output_type": "execute_result"
    }
   ],
   "source": [
    "results.tag"
   ]
  },
  {
   "cell_type": "code",
   "execution_count": 102,
   "metadata": {},
   "outputs": [
    {
     "data": {
      "text/plain": [
       "'Привет\\n\\t'"
      ]
     },
     "execution_count": 102,
     "metadata": {},
     "output_type": "execute_result"
    }
   ],
   "source": [
    "results.tail"
   ]
  },
  {
   "cell_type": "code",
   "execution_count": 101,
   "metadata": {},
   "outputs": [
    {
     "data": {
      "text/plain": [
       "'\\n\\t\\t'"
      ]
     },
     "execution_count": 101,
     "metadata": {},
     "output_type": "execute_result"
    }
   ],
   "source": [
    "results.text"
   ]
  },
  {
   "cell_type": "markdown",
   "metadata": {},
   "source": [
    "Ниже рассмотрены отображены только те методы, которые **НЕ** изменяют XML структуру, а только позволяют **ПОЛУЧИТЬ** данные из нее."
   ]
  },
  {
   "cell_type": "markdown",
   "metadata": {},
   "source": [
    "Методы класса Element                | Описание\n",
    ":------------------------------|:------------------------------------\n",
    "get(key, default = None)     | Возвращает значение атрибута элемента *key*, если не найден возвращает *default*\n",
    "items()                      | Возвращает список кортежей (name, value) для всех атрибутов элемента в произвольном порядке\n",
    "keys()                       | Возвращает список имен всех атрибутов элемента в произвольном порядке"
   ]
  },
  {
   "cell_type": "code",
   "execution_count": 110,
   "metadata": {},
   "outputs": [
    {
     "data": {
      "text/plain": [
       "'RES'"
      ]
     },
     "execution_count": 110,
     "metadata": {},
     "output_type": "execute_result"
    }
   ],
   "source": [
    "results.get('name')"
   ]
  },
  {
   "cell_type": "code",
   "execution_count": 112,
   "metadata": {},
   "outputs": [
    {
     "data": {
      "text/plain": [
       "[('id', 'results'), ('name', 'RES')]"
      ]
     },
     "execution_count": 112,
     "metadata": {},
     "output_type": "execute_result"
    }
   ],
   "source": [
    "results.items()"
   ]
  },
  {
   "cell_type": "code",
   "execution_count": 116,
   "metadata": {},
   "outputs": [
    {
     "data": {
      "text/plain": [
       "['id', 'name']"
      ]
     },
     "execution_count": 116,
     "metadata": {},
     "output_type": "execute_result"
    }
   ],
   "source": [
    "results.keys()"
   ]
  },
  {
   "cell_type": "markdown",
   "metadata": {},
   "source": [
    "Остальные методы элемента работают с дочерними элементами."
   ]
  },
  {
   "cell_type": "markdown",
   "metadata": {},
   "source": [
    "Методы класса Element                | Описание\n",
    ":------------------------------|:------------------------------------\n",
    "find(match, namespaces = None) | Возвращает первого потомка, соответствующего *match* (имя тега), при отсутствии потомка возвращает **None**. Агрумент *namespaces* указывает в каком пространстве имен XML следует искать имя.\n",
    "findall(match, namespaces = None)"
   ]
  },
  {
   "cell_type": "code",
   "execution_count": 122,
   "metadata": {},
   "outputs": [
    {
     "name": "stdout",
     "output_type": "stream",
     "text": [
      "<Element 'Result' at 0x7f6a4d778818>\n",
      "{'num': '3'}\n"
     ]
    }
   ],
   "source": [
    "print(results.find('Result'))\n",
    "print(results.find('Result').attrib)"
   ]
  },
  {
   "cell_type": "code",
   "execution_count": 124,
   "metadata": {},
   "outputs": [
    {
     "ename": "AttributeError",
     "evalue": "'str' object has no attribute 'items'",
     "output_type": "error",
     "traceback": [
      "\u001b[0;31m---------------------------------------------------------------------------\u001b[0m",
      "\u001b[0;31mAttributeError\u001b[0m                            Traceback (most recent call last)",
      "\u001b[0;32m<ipython-input-124-3816e248160f>\u001b[0m in \u001b[0;36m<module>\u001b[0;34m\u001b[0m\n\u001b[0;32m----> 1\u001b[0;31m \u001b[0mprint\u001b[0m\u001b[0;34m(\u001b[0m\u001b[0mresults\u001b[0m\u001b[0;34m.\u001b[0m\u001b[0mfind\u001b[0m\u001b[0;34m(\u001b[0m\u001b[0;34m'Accident'\u001b[0m\u001b[0;34m,\u001b[0m \u001b[0mnamespaces\u001b[0m\u001b[0;34m=\u001b[0m\u001b[0;34m'Accidents'\u001b[0m\u001b[0;34m)\u001b[0m\u001b[0;34m)\u001b[0m\u001b[0;34m\u001b[0m\u001b[0;34m\u001b[0m\u001b[0m\n\u001b[0m",
      "\u001b[0;32m/opt/anaconda3/lib/python3.6/xml/etree/ElementPath.py\u001b[0m in \u001b[0;36mfind\u001b[0;34m(elem, path, namespaces)\u001b[0m\n\u001b[1;32m    296\u001b[0m \u001b[0;34m\u001b[0m\u001b[0m\n\u001b[1;32m    297\u001b[0m \u001b[0;32mdef\u001b[0m \u001b[0mfind\u001b[0m\u001b[0;34m(\u001b[0m\u001b[0melem\u001b[0m\u001b[0;34m,\u001b[0m \u001b[0mpath\u001b[0m\u001b[0;34m,\u001b[0m \u001b[0mnamespaces\u001b[0m\u001b[0;34m=\u001b[0m\u001b[0;32mNone\u001b[0m\u001b[0;34m)\u001b[0m\u001b[0;34m:\u001b[0m\u001b[0;34m\u001b[0m\u001b[0;34m\u001b[0m\u001b[0m\n\u001b[0;32m--> 298\u001b[0;31m     \u001b[0;32mreturn\u001b[0m \u001b[0mnext\u001b[0m\u001b[0;34m(\u001b[0m\u001b[0miterfind\u001b[0m\u001b[0;34m(\u001b[0m\u001b[0melem\u001b[0m\u001b[0;34m,\u001b[0m \u001b[0mpath\u001b[0m\u001b[0;34m,\u001b[0m \u001b[0mnamespaces\u001b[0m\u001b[0;34m)\u001b[0m\u001b[0;34m,\u001b[0m \u001b[0;32mNone\u001b[0m\u001b[0;34m)\u001b[0m\u001b[0;34m\u001b[0m\u001b[0;34m\u001b[0m\u001b[0m\n\u001b[0m\u001b[1;32m    299\u001b[0m \u001b[0;34m\u001b[0m\u001b[0m\n\u001b[1;32m    300\u001b[0m \u001b[0;31m##\u001b[0m\u001b[0;34m\u001b[0m\u001b[0;34m\u001b[0m\u001b[0;34m\u001b[0m\u001b[0m\n",
      "\u001b[0;32m/opt/anaconda3/lib/python3.6/xml/etree/ElementPath.py\u001b[0m in \u001b[0;36miterfind\u001b[0;34m(elem, path, namespaces)\u001b[0m\n\u001b[1;32m    257\u001b[0m     \u001b[0;31m# compile selector pattern\u001b[0m\u001b[0;34m\u001b[0m\u001b[0;34m\u001b[0m\u001b[0;34m\u001b[0m\u001b[0m\n\u001b[1;32m    258\u001b[0m     cache_key = (path, None if namespaces is None\n\u001b[0;32m--> 259\u001b[0;31m                             else tuple(sorted(namespaces.items())))\n\u001b[0m\u001b[1;32m    260\u001b[0m     \u001b[0;32mif\u001b[0m \u001b[0mpath\u001b[0m\u001b[0;34m[\u001b[0m\u001b[0;34m-\u001b[0m\u001b[0;36m1\u001b[0m\u001b[0;34m:\u001b[0m\u001b[0;34m]\u001b[0m \u001b[0;34m==\u001b[0m \u001b[0;34m\"/\"\u001b[0m\u001b[0;34m:\u001b[0m\u001b[0;34m\u001b[0m\u001b[0;34m\u001b[0m\u001b[0m\n\u001b[1;32m    261\u001b[0m         \u001b[0mpath\u001b[0m \u001b[0;34m=\u001b[0m \u001b[0mpath\u001b[0m \u001b[0;34m+\u001b[0m \u001b[0;34m\"*\"\u001b[0m \u001b[0;31m# implicit all (FIXME: keep this?)\u001b[0m\u001b[0;34m\u001b[0m\u001b[0;34m\u001b[0m\u001b[0m\n",
      "\u001b[0;31mAttributeError\u001b[0m: 'str' object has no attribute 'items'"
     ]
    }
   ],
   "source": [
    "print(results.find('Accident', namespaces='Accidents'))"
   ]
  },
  {
   "cell_type": "markdown",
   "metadata": {},
   "source": [
    "Возможно вам удобнее работать больше с JSON форматом (всмысле со словарем), чем с XML. Рассмотрим превращение XML файла в словарь. Для этого можно использовать модуль **xmltodict**."
   ]
  },
  {
   "cell_type": "code",
   "execution_count": 29,
   "metadata": {},
   "outputs": [],
   "source": [
    "import xmltodict"
   ]
  },
  {
   "cell_type": "markdown",
   "metadata": {},
   "source": [
    "Модуль **xmltodict** также имеет метод **parse**, однако здесь метод принимает на вход текстовое представление XML файла."
   ]
  },
  {
   "cell_type": "code",
   "execution_count": 30,
   "metadata": {},
   "outputs": [],
   "source": [
    "with open('Materials_fourth_lecture/xml/example_1.xml') as file:\n",
    "    dict_from_xml = xmltodict.parse(file.read())"
   ]
  },
  {
   "cell_type": "code",
   "execution_count": 31,
   "metadata": {},
   "outputs": [
    {
     "data": {
      "text/plain": [
       "OrderedDict([('ROOT',\n",
       "              OrderedDict([('Certificates', 'null'),\n",
       "                           ('User', 'renins'),\n",
       "                           ('Brand', 'HONDA'),\n",
       "                           ('Displacement', '1997'),\n",
       "                           ('DateOfMileage', '-'),\n",
       "                           ('Model', 'CR-V'),\n",
       "                           ('Count', '6'),\n",
       "                           ('SteeringWheelPlacement', '1'),\n",
       "                           ('LeasingInformations', None),\n",
       "                           ('VehicleType', 'PC'),\n",
       "                           ('Mileage', '-'),\n",
       "                           ('Year', '2010'),\n",
       "                           ('Accidents',\n",
       "                            OrderedDict([('Accident',\n",
       "                                          OrderedDict([('@num', '1'),\n",
       "                                                       ('region',\n",
       "                                                        'Республика Татарстан'),\n",
       "                                                       ('vehicleDamageState',\n",
       "                                                        'Повреждено'),\n",
       "                                                       ('damagePoints',\n",
       "                                                        '114,115'),\n",
       "                                                       ('accidentNumber',\n",
       "                                                        '920101960'),\n",
       "                                                       ('accidentType',\n",
       "                                                        'Столкновение'),\n",
       "                                                       ('accidentDateTime',\n",
       "                                                        '26.12.2017 23:16')]))])),\n",
       "                           ('Taxi', 'false'),\n",
       "                           ('EngineNumber', '4012804'),\n",
       "                           ('Leasing', 'false'),\n",
       "                           ('SpecialArea', 'false'),\n",
       "                           ('Customs', None),\n",
       "                           ('Removed', 'false'),\n",
       "                           ('Utilisation', 'false'),\n",
       "                           ('EngineType', '1'),\n",
       "                           ('Power', '150'),\n",
       "                           ('Stealing', 'false'),\n",
       "                           ('MarkaRus', 'ХОНДА  СR-V'),\n",
       "                           ('VehicleTypeNumber', '29'),\n",
       "                           ('Category', 'В'),\n",
       "                           ('State', 'OK'),\n",
       "                           ('NettoWeight', '1605'),\n",
       "                           ('Price', '804210,00'),\n",
       "                           ('IsCustoms', 'false'),\n",
       "                           ('TaxiInformations', None),\n",
       "                           ('Results',\n",
       "                            OrderedDict([('Result',\n",
       "                                          [OrderedDict([('@num', '3'),\n",
       "                                                        ('region',\n",
       "                                                         'ОКТЯБРЬСКИЙ'),\n",
       "                                                        ('dateOfLastOperation',\n",
       "                                                         '31.08.2010'),\n",
       "                                                        ('area', '430000'),\n",
       "                                                        ('dateOfFirstRegistration',\n",
       "                                                         '31.08.2010'),\n",
       "                                                        ('street', '-'),\n",
       "                                                        ('oblast',\n",
       "                                                         'Республика\\u3000Мордовия'),\n",
       "                                                        ('okrug',\n",
       "                                                         'Приволжский'),\n",
       "                                                        ('type', 'park'),\n",
       "                                                        ('city', 'САРАНСК'),\n",
       "                                                        ('categoryOfOwner',\n",
       "                                                         '2'),\n",
       "                                                        ('codeOfTechOperation',\n",
       "                                                         '11'),\n",
       "                                                        ('country', 'RU')]),\n",
       "                                           OrderedDict([('@num', '2'),\n",
       "                                                        ('region',\n",
       "                                                         'ОКТЯБРЬСКИЙ'),\n",
       "                                                        ('dateOfLastOperation',\n",
       "                                                         '31.08.2010'),\n",
       "                                                        ('area', '430000'),\n",
       "                                                        ('dateOfFirstRegistration',\n",
       "                                                         '31.08.2010'),\n",
       "                                                        ('street', '-'),\n",
       "                                                        ('oblast',\n",
       "                                                         'Республика\\u3000Мордовия'),\n",
       "                                                        ('okrug',\n",
       "                                                         'Приволжский'),\n",
       "                                                        ('type', 'park'),\n",
       "                                                        ('city', 'САРАНСК'),\n",
       "                                                        ('categoryOfOwner',\n",
       "                                                         '2'),\n",
       "                                                        ('codeOfTechOperation',\n",
       "                                                         '11'),\n",
       "                                                        ('country', 'RU')]),\n",
       "                                           OrderedDict([('@num', '1'),\n",
       "                                                        ('region',\n",
       "                                                         'ОКТЯБРЬСКИЙ'),\n",
       "                                                        ('dateOfLastOperation',\n",
       "                                                         '31.08.2010'),\n",
       "                                                        ('area', '430000'),\n",
       "                                                        ('dateOfFirstRegistration',\n",
       "                                                         '31.08.2010'),\n",
       "                                                        ('street', '-'),\n",
       "                                                        ('oblast',\n",
       "                                                         'Республика Мордовия'),\n",
       "                                                        ('okrug',\n",
       "                                                         'Приволжский'),\n",
       "                                                        ('type', 'park'),\n",
       "                                                        ('city', 'САРАНСК'),\n",
       "                                                        ('categoryOfOwner',\n",
       "                                                         '2'),\n",
       "                                                        ('codeOfTechOperation',\n",
       "                                                         '11'),\n",
       "                                                        ('country', 'RU')]),\n",
       "                                           OrderedDict([('@num', '6'),\n",
       "                                                        ('inn', '-'),\n",
       "                                                        ('region',\n",
       "                                                         'НОВОСАВИНОВСКИЙ'),\n",
       "                                                        ('dateOfLastOperation',\n",
       "                                                         '24.10.2015'),\n",
       "                                                        ('street', '-'),\n",
       "                                                        ('oblast',\n",
       "                                                         'Республика\\u3000Татарстан'),\n",
       "                                                        ('okrug',\n",
       "                                                         'Приволжский'),\n",
       "                                                        ('house', '-'),\n",
       "                                                        ('type',\n",
       "                                                         'registration'),\n",
       "                                                        ('appartment', '-'),\n",
       "                                                        ('city',\n",
       "                                                         '.\\u3000КАЗАНЬ'),\n",
       "                                                        ('country', 'RU'),\n",
       "                                                        ('codeOfTechOperation',\n",
       "                                                         '94'),\n",
       "                                                        ('area', '420136'),\n",
       "                                                        ('dateOfFirstRegistration',\n",
       "                                                         '31.08.2010'),\n",
       "                                                        ('owner',\n",
       "                                                         'ФИЗ\\u3000ЛИЦО'),\n",
       "                                                        ('categoryOfOwner',\n",
       "                                                         '2')]),\n",
       "                                           OrderedDict([('@num', '5'),\n",
       "                                                        ('inn', '-'),\n",
       "                                                        ('region', '-'),\n",
       "                                                        ('dateOfLastOperation',\n",
       "                                                         '12.09.2015'),\n",
       "                                                        ('street', '-'),\n",
       "                                                        ('oblast',\n",
       "                                                         'Республика\\u3000Татарстан'),\n",
       "                                                        ('okrug',\n",
       "                                                         'Приволжский'),\n",
       "                                                        ('house', '-'),\n",
       "                                                        ('type',\n",
       "                                                         'registration'),\n",
       "                                                        ('appartment', '-'),\n",
       "                                                        ('city',\n",
       "                                                         'Г.\\u3000САРАНСК'),\n",
       "                                                        ('country', 'RU'),\n",
       "                                                        ('codeOfTechOperation',\n",
       "                                                         '41'),\n",
       "                                                        ('area', '430000'),\n",
       "                                                        ('dateOfFirstRegistration',\n",
       "                                                         '31.08.2010'),\n",
       "                                                        ('owner',\n",
       "                                                         'ФИЗ\\u3000ЛИЦО'),\n",
       "                                                        ('categoryOfOwner',\n",
       "                                                         '2')]),\n",
       "                                           OrderedDict([('@num', '4'),\n",
       "                                                        ('region',\n",
       "                                                         'ОКТЯБРЬСКИЙ'),\n",
       "                                                        ('dateOfLastOperation',\n",
       "                                                         '31.08.2010'),\n",
       "                                                        ('area', '430000'),\n",
       "                                                        ('dateOfFirstRegistration',\n",
       "                                                         '31.08.2010'),\n",
       "                                                        ('street', '-'),\n",
       "                                                        ('oblast',\n",
       "                                                         'Республика\\u3000Мордовия'),\n",
       "                                                        ('okrug',\n",
       "                                                         'Приволжский'),\n",
       "                                                        ('type', 'park'),\n",
       "                                                        ('city', 'САРАНСК'),\n",
       "                                                        ('categoryOfOwner',\n",
       "                                                         '2'),\n",
       "                                                        ('codeOfTechOperation',\n",
       "                                                         '11'),\n",
       "                                                        ('country',\n",
       "                                                         'RU')])])])),\n",
       "                           ('MaxWeight', '2080'),\n",
       "                           ('ChassisNumber', '-')]))])"
      ]
     },
     "execution_count": 31,
     "metadata": {},
     "output_type": "execute_result"
    }
   ],
   "source": [
    "dict_from_xml"
   ]
  },
  {
   "cell_type": "markdown",
   "metadata": {},
   "source": [
    "Не пугайтесь слов - **OrderedDict**. Это тоже словарь, просто который фиксирует порядок ключей."
   ]
  },
  {
   "cell_type": "code",
   "execution_count": 32,
   "metadata": {},
   "outputs": [
    {
     "data": {
      "text/plain": [
       "'HONDA'"
      ]
     },
     "execution_count": 32,
     "metadata": {},
     "output_type": "execute_result"
    }
   ],
   "source": [
    "dict_from_xml['ROOT']['Brand']"
   ]
  },
  {
   "cell_type": "markdown",
   "metadata": {},
   "source": [
    "<img src=\"Image_fourth_lecture/files_end.jpg\" alt=\"XML\" width=\"900\">"
   ]
  }
 ],
 "metadata": {
  "kernelspec": {
   "display_name": "Python 3",
   "language": "python",
   "name": "python3"
  },
  "language_info": {
   "codemirror_mode": {
    "name": "ipython",
    "version": 3
   },
   "file_extension": ".py",
   "mimetype": "text/x-python",
   "name": "python",
   "nbconvert_exporter": "python",
   "pygments_lexer": "ipython3",
   "version": "3.6.8"
  }
 },
 "nbformat": 4,
 "nbformat_minor": 2
}
