{
 "cells": [
  {
   "cell_type": "markdown",
   "metadata": {},
   "source": [
    "<table>\n",
    "<tr style=\"background:transparent\">\n",
    " <td><font size=\"7\" face=\"serif\"><b>Курс анализа данных на Python</b></font></td>   \n",
    " <td><img src=\"Image_introduction/Unknown.png\" alt=\"Змейка\" width=\"200\" height=\"100\"></td>\n",
    "</tr>\n",
    "</table>"
   ]
  },
  {
   "cell_type": "markdown",
   "metadata": {},
   "source": [
    "<center><font size=\"6\" face=\"serif\"><b>Пару слов о языке Python</b></font></center>"
   ]
  },
  {
   "cell_type": "markdown",
   "metadata": {},
   "source": [
    "<font size=\"5\" face=\"serif\"><b>Философия Python</b>\n",
    "<table>\n",
    "<tr style=\"background:transparent\">\n",
    " <td width=\"60%\">\n",
    "   <div align=\"left\">\n",
    "   <font size=\"4\" face=\"serif\">\n",
    "    <ul>\n",
    "       <li>Красивое лучше, чем уродливое.</li>\n",
    "       <li>Явное лучше, чем неявное.</li>\n",
    "       <li>Простое лучше, чем сложное.</li>\n",
    "       <li>Сложное лучше, чем запутанное.</li>\n",
    "       <li>Плоское лучше, чем вложенное.</li>\n",
    "       <li>Разреженное лучше, чем плотное.</li>\n",
    "       <li>Читаемость имеет значение.</li>\n",
    "       <li>Особые случаи не настолько особые, чтобы нарушать правила.</li>\n",
    "       <li>При этом практичность важнее безупречности.</li>\n",
    "       <li>Ошибки никогда не должны замалчиваться.</li>\n",
    "       <li>Если не замалчиваются явно.</li>\n",
    "       <li>Встретив двусмысленность, отбрось искушение угадать.</li>\n",
    "       <li>Должен существовать один — и, желательно, только один — очевидный способ сделать это.</li>\n",
    "       <li>Хотя он поначалу может быть и не очевиден, если вы не голландец.</li>\n",
    "       <li>Сейчас лучше, чем никогда.</li>\n",
    "       <li>Хотя никогда зачастую лучше, чем прямо сейчас.</li>\n",
    "       <li>Если реализацию сложно объяснить — идея плоха.</li>\n",
    "       <li>Если реализацию легко объяснить — идея, возможно, хороша.</li>\n",
    "       <li>Пространства имён — отличная вещь! Давайте будем делать их больше!</li>\n",
    "   </ul>\n",
    "   </font>\n",
    "   </div>\n",
    "  </td>\n",
    " <td><img src=\"Image_introduction/Slytherin.gif\" alt=\"Слизерин\" width=\"300\"></td>\n",
    "</tr>\n",
    "</table>"
   ]
  },
  {
   "cell_type": "markdown",
   "metadata": {},
   "source": [
    "<font size=\"5\" face=\"serif\"><b>В чем преимущество Python по сравнению с другими языками?</b></font>\n",
    "    \n",
    " - Простой и понятный синтаксис.\n",
    " - Огромное кол-во готовых библиотек.\n",
    " - Переносимость программ.\n",
    " - Скорость разработки."
   ]
  },
  {
   "cell_type": "markdown",
   "metadata": {},
   "source": [
    "<font size=\"5\" face=\"serif\"><b>Ну и немного минусов</b></font>\n",
    "    \n",
    " - Легче допустить ошибку (из-за динамической типизации).\n",
    " - Медленнее работает."
   ]
  },
  {
   "cell_type": "markdown",
   "metadata": {},
   "source": [
    "<font size=\"5\" face=\"serif\"><b>Ну, допустим. А где используется Python?</b></font>\n",
    "\n",
    " - Компания Google использует Python в своей поисковой системе и оплачивает труд создателя Python — Гвидо ван Россума.\n",
    " - Такие компании, как Intel, Cisco, Hewlett-Packard, Seagate, Qualcomm и IBM, используют Python для тестирования аппаратного обеспечения.\n",
    " - Служба коллективного использования видеоматериалов YouTube в значительной степени реализована на Python.\n",
    " - NSA использует Python для шифрования и анализа разведданных.\n",
    " - Компании JPMorgan Chase, UBS, Getco и Citadel применяют Python для прогнозирования финансового рынка.\n",
    " - Популярная программа BitTorrent для обмена файлами в пиринговых сетях написана на языке Python.\n",
    " - Популярный веб-фреймворк App Engine от компании Google использует Python в качестве прикладного языка программирования.\n",
    " - NASA, Los Alamos, JPL и Fermilab используют Python для научных вычислений и т.д."
   ]
  },
  {
   "cell_type": "markdown",
   "metadata": {},
   "source": [
    "<font size=\"5\" face=\"serif\"><b>Теперь пару более сложных тезисов о Python</b></font>\n",
    "\n",
    " - Интерпретируемый язык.\n",
    " - Динамическая строгая неявная типизация.\n",
    " - Автоматическое управление памятью (сборщик мусора).\n",
    " - Полная интроспекция."
   ]
  },
  {
   "cell_type": "markdown",
   "metadata": {},
   "source": [
    "<font size=\"5\" face=\"serif\"><i>Интерпретируемый язык</i></font>"
   ]
  },
  {
   "cell_type": "markdown",
   "metadata": {},
   "source": [
    "<img src=\"Image_introduction/Scheme_translator.png\" alt=\"Компиляция\" width=\"1000\" height=\"200\">"
   ]
  },
  {
   "cell_type": "markdown",
   "metadata": {},
   "source": [
    "По одной из классификаций языки программирования делятся по типу транслятора. **Транслятор** - это программа-переводчик для преобразования текстов из языка программирования в машинный язык, понятный процессору компьютера (нули и единицы). Трансляторы бывают двух видов:\n",
    "- Компиляторы - преобразуют программу в машинный код, записывают в память компьютера и лишь затем исполняют.\n",
    "- Интерпретаторы - производят покомандную обработку и выполнение исходной программы.   \n",
    "\n",
    "Интерпретатором Python по-умолчанию является CPython, программа написанная на чистом C. "
   ]
  },
  {
   "cell_type": "markdown",
   "metadata": {},
   "source": [
    "<font size=\"5\" face=\"serif\"><i>Динамическая строгая неявная типизация</i></font>"
   ]
  },
  {
   "cell_type": "markdown",
   "metadata": {},
   "source": [
    "По другой классификации языки программирования делятся по виду типизации на несколько перескающихся категорий:\n",
    "\n",
    "- Статическая/динамическая:\n",
    "    - `Статическая - C, Java, C#`\n",
    "    - `Динамическая - Python, JavaScript, Ruby`\n",
    "- Строгая - нестрогая (диапазон):\n",
    "    - `Сильная - Java, Python, Haskell`\n",
    "    - `Слабая - C, JavaScript, Visual Basic, PHP`\n",
    "- Явная/неявная:\n",
    "    - `Явная - C++, C#`\n",
    "    - `Неявная - PHP, JavaScript`"
   ]
  },
  {
   "cell_type": "markdown",
   "metadata": {},
   "source": [
    "Пример 1\n",
    "<img src=\"Image_introduction/typing.png\" alt=\"Типизация\" width=\"700\">"
   ]
  },
  {
   "cell_type": "markdown",
   "metadata": {},
   "source": [
    "Пример 2:\n",
    "- Нестрогая типизация (JavaScript):\n",
    "    - `2 + '3'    # '23'`\n",
    "    - `2 * '3'    # 21`\n",
    "    - `2 + true   # 3`\n",
    "- Более сильная типизация (Python):\n",
    "    - `2 + '3'    # TypeError`\n",
    "    - `2 * '3'    # '33'`\n",
    "    - `2 + True   # 3`\n",
    "           "
   ]
  },
  {
   "cell_type": "markdown",
   "metadata": {},
   "source": [
    "Пример 3:\n",
    "- Явная типизация:\n",
    "    - `int c = 4;`\n",
    "    - `bool b = true;`\n",
    "    - `int function(int argument) {return argument * 2}`\n",
    "- Неявная типизация:\n",
    "    - `с = 4;`\n",
    "    - `b = True;` \n",
    "    - `def function(argument): return argument * 2`"
   ]
  },
  {
   "cell_type": "markdown",
   "metadata": {},
   "source": [
    "<img src=\"Image_introduction/Java_and_Python.jpg\" alt=\"Типизация\" width=\"400\">"
   ]
  },
  {
   "cell_type": "markdown",
   "metadata": {},
   "source": [
    "<font size=\"5\" face=\"serif\"><i>Автоматическое управление памятью (сборщик мусора)</i></font>"
   ]
  },
  {
   "cell_type": "markdown",
   "metadata": {},
   "source": [
    "<table>\n",
    "<tr style=\"background:transparent\">\n",
    " <td><center><font size=\"4\" face=\"serif\"><b>Ручное управление памятью</b></font></center></td>\n",
    " <td><center><font size=\"4\" face=\"serif\"><b>Сборщик мусора</b></font></center></td>\n",
    "</tr>\n",
    "<tr style=\"background:transparent\">\n",
    " <td><img src=\"Image_introduction/strah-pylesosa.jpg\" alt=\"Страх пылесоса\" width=\"490\"></td>\n",
    " <td><img src=\"Image_introduction/irobot_pylesos_cat.jpg\" alt=\"Кот на пылесосе\" width=\"400\"></td>\n",
    "</tr>\n",
    "</table>"
   ]
  },
  {
   "cell_type": "markdown",
   "metadata": {},
   "source": [
    "Специальный процесс, называемый *сборщиком мусора* (англ. *garbage collector, gc*), периодически освобождает память, удаляя объекты, которые уже не будут востребованы приложениями. Вам не нужно вручную, как в С++ (указатели) работать с памятью, в Python в большинстве случаев не надо даже думать об этом."
   ]
  },
  {
   "cell_type": "markdown",
   "metadata": {},
   "source": [
    "<font size=\"5\" face=\"serif\"><i>Полная интроспекция</i></font>"
   ]
  },
  {
   "cell_type": "markdown",
   "metadata": {},
   "source": [
    "<img src=\"Image_introduction/risovach.ru.jpg\" alt=\"Объекты\" width=\"700\">"
   ]
  },
  {
   "cell_type": "markdown",
   "metadata": {},
   "source": [
    "Что такое интроспекция? В повседневной жизни - это изучения собственных мыслей, ощущений, мотивов и поступков, т.е. - это **самоанализ**.     "
   ]
  },
  {
   "cell_type": "markdown",
   "metadata": {},
   "source": [
    "В программировании это означает возможность изучить что-либо, определить что это такое, что оно умеет. Те кто изучал программирование слышал про ООП, так вот все в питоне - это объект какого-нибудь класса. И это означает, что любой объект можно изучить, изучить класс к которому он относится. Помимо этого в питоне почти все задокументировано и данную документацию можно вызывать в процессе написания кода."
   ]
  },
  {
   "cell_type": "markdown",
   "metadata": {},
   "source": [
    "<div class=\"alert alert-block alert-danger\">\n",
    "<b>АЛАРМ:</b> Это важно!\n",
    "\n",
    "\n",
    "```\n",
    "Давайте договоримся о единой терминологии:\n",
    "Атрибут (класса) - это переменные. К примеру arg = 5, arg - это атрибут.\n",
    "Методы (класса) - это функции. К примеру \n",
    "def func(x):\n",
    "    return x + 2\n",
    "func - это метод, который принимает число x и возвращает число x+2\n",
    "func(5) == 7    # True\n",
    "```\n",
    "</div>"
   ]
  },
  {
   "cell_type": "markdown",
   "metadata": {},
   "source": [
    "Приведу пример:\n",
    "\n",
    "4.5 - вроде просто число с плавающей точкой (дробное число). В С++ - это был бы просто указатель на место в памяти, где зашифровано это число. В Python же это объект класса float"
   ]
  },
  {
   "cell_type": "code",
   "execution_count": 1,
   "metadata": {},
   "outputs": [
    {
     "name": "stdout",
     "output_type": "stream",
     "text": [
      "<class 'float'>\n"
     ]
    }
   ],
   "source": [
    "print(type(4.5))"
   ]
  },
  {
   "cell_type": "markdown",
   "metadata": {},
   "source": [
    "Это означает, что даже у обычного числа есть методы класса float (считайте функции, которые могут реализовывать какие-то операции над этим числом). Посмотрим на эти методы (функции). Все методы/атрибуты начинающиеся и заканчивающиеся на два нижних подчеркивания __ относятся к встроенным в сам язык специальными методами."
   ]
  },
  {
   "cell_type": "code",
   "execution_count": 2,
   "metadata": {},
   "outputs": [
    {
     "data": {
      "text/plain": [
       "['__abs__',\n",
       " '__add__',\n",
       " '__bool__',\n",
       " '__class__',\n",
       " '__delattr__',\n",
       " '__dir__',\n",
       " '__divmod__',\n",
       " '__doc__',\n",
       " '__eq__',\n",
       " '__float__',\n",
       " '__floordiv__',\n",
       " '__format__',\n",
       " '__ge__',\n",
       " '__getattribute__',\n",
       " '__getformat__',\n",
       " '__getnewargs__',\n",
       " '__gt__',\n",
       " '__hash__',\n",
       " '__init__',\n",
       " '__init_subclass__',\n",
       " '__int__',\n",
       " '__le__',\n",
       " '__lt__',\n",
       " '__mod__',\n",
       " '__mul__',\n",
       " '__ne__',\n",
       " '__neg__',\n",
       " '__new__',\n",
       " '__pos__',\n",
       " '__pow__',\n",
       " '__radd__',\n",
       " '__rdivmod__',\n",
       " '__reduce__',\n",
       " '__reduce_ex__',\n",
       " '__repr__',\n",
       " '__rfloordiv__',\n",
       " '__rmod__',\n",
       " '__rmul__',\n",
       " '__round__',\n",
       " '__rpow__',\n",
       " '__rsub__',\n",
       " '__rtruediv__',\n",
       " '__setattr__',\n",
       " '__setformat__',\n",
       " '__sizeof__',\n",
       " '__str__',\n",
       " '__sub__',\n",
       " '__subclasshook__',\n",
       " '__truediv__',\n",
       " '__trunc__',\n",
       " 'as_integer_ratio',\n",
       " 'conjugate',\n",
       " 'fromhex',\n",
       " 'hex',\n",
       " 'imag',\n",
       " 'is_integer',\n",
       " 'real']"
      ]
     },
     "execution_count": 2,
     "metadata": {},
     "output_type": "execute_result"
    }
   ],
   "source": [
    "dir(4.5)"
   ]
  },
  {
   "cell_type": "markdown",
   "metadata": {},
   "source": [
    "Ух, довольно большой список даже для простого числа. Хотя стоит конечно же заметить, что большинство этих методов специальные. Итак, мы увидели, что можно делать с вокруг числа с плавающей точкой. Давайте рассмотрим метод 'hex'. Вначале посмотрим вообще, что он делает."
   ]
  },
  {
   "cell_type": "code",
   "execution_count": 3,
   "metadata": {},
   "outputs": [
    {
     "name": "stdout",
     "output_type": "stream",
     "text": [
      "float.hex() -> string\n",
      "\n",
      "Return a hexadecimal representation of a floating-point number.\n",
      ">>> (-0.1).hex()\n",
      "'-0x1.999999999999ap-4'\n",
      ">>> 3.14159.hex()\n",
      "'0x1.921f9f01b866ep+1'\n"
     ]
    }
   ],
   "source": [
    "print(4.5.hex.__doc__)    # Пс, __doc__ вызывает текущую документацию"
   ]
  },
  {
   "cell_type": "markdown",
   "metadata": {},
   "source": [
    "Итак, как мы видим из описания, данный метод возвращает представления числа в шестнадцатеричном представлении. Причем здесь даже указано, что результатом будет являться строка. Проверим."
   ]
  },
  {
   "cell_type": "code",
   "execution_count": 4,
   "metadata": {},
   "outputs": [
    {
     "name": "stdout",
     "output_type": "stream",
     "text": [
      "0x1.2000000000000p+2\n",
      "<class 'str'>\n"
     ]
    }
   ],
   "source": [
    "print(4.5.hex())\n",
    "print(type(4.5.hex()))"
   ]
  },
  {
   "cell_type": "markdown",
   "metadata": {},
   "source": [
    "Чуть проще - вызовем метод округления \\__round__"
   ]
  },
  {
   "cell_type": "markdown",
   "metadata": {},
   "source": [
    "Ну что ж, результат похож на правду. Заметьте, что результат является тоже объектом класса string (строка)."
   ]
  },
  {
   "cell_type": "code",
   "execution_count": 5,
   "metadata": {},
   "outputs": [
    {
     "name": "stdout",
     "output_type": "stream",
     "text": [
      "5\n",
      "<class 'int'>\n"
     ]
    }
   ],
   "source": [
    "print(4.6.__round__())\n",
    "print(type(4.6.__round__()))"
   ]
  },
  {
   "cell_type": "markdown",
   "metadata": {},
   "source": [
    "В данном случае результат является уже объектом класса int (целое число). \n",
    "\n",
    "Немного выносит мозг, но со временем вы поймете (если конечно будете интересоваться) всю красоту данной конструкции языка."
   ]
  },
  {
   "cell_type": "markdown",
   "metadata": {},
   "source": [
    "<center><font size=\"6\" face=\"serif\"><b>Небольшое подведение итогов</b></font></center>"
   ]
  },
  {
   "cell_type": "markdown",
   "metadata": {},
   "source": [
    "Мы тезисно посмотрели, что это за зверь (вернее пресмыкающееся) - Python. Самое главный тезис, который вы должны запомнить:    "
   ]
  },
  {
   "cell_type": "markdown",
   "metadata": {},
   "source": [
    "<center><font size=\"5\" face=\"serif\"><b>Python - это действительно просто</b></font></center>"
   ]
  },
  {
   "cell_type": "markdown",
   "metadata": {},
   "source": [
    "Даже, если вам сейчас кажется, что это все очень сложные слова - интроспеция/типизация, то пока поверьте мне на слово. Вам не особо будут нужны данные понятия в повседневных вещах, но если вы их полностью осознаете - вы сможете спокойно оперировать новыми, совсем незнакомыми вещами в Python, всего лишь завглянув в документацию. Все эти принципы закрепятся у вас на практике."
   ]
  },
  {
   "cell_type": "markdown",
   "metadata": {},
   "source": [
    "На Python решено огромное кол-во задач, а кол-во готовых библиотек обгоняет даже кол-во откатов в нашей стране. Поэтому, чтобы быть Senior Python Developer в Google, вам нужно всего-лишь:\n",
    "- знать базу языка;\n",
    "- разбираться что гуглить;\n",
    "- разбираться как гуглить; \n",
    "- разбираться где гуглить.  \n",
    " \n",
    "И тогда для вас откроются огромные возможности."
   ]
  },
  {
   "cell_type": "markdown",
   "metadata": {},
   "source": [
    "<center><font size=\"5\" face=\"serif\"><b>Удачи в изучении!</b></font></center>"
   ]
  },
  {
   "cell_type": "markdown",
   "metadata": {},
   "source": [
    "<img src=\"Image_introduction/Lucky.png\" alt=\"Объекты\" width=\"700\">"
   ]
  },
  {
   "cell_type": "code",
   "execution_count": null,
   "metadata": {},
   "outputs": [],
   "source": []
  }
 ],
 "metadata": {
  "kernelspec": {
   "display_name": "Python 3",
   "language": "python",
   "name": "python3"
  },
  "language_info": {
   "codemirror_mode": {
    "name": "ipython",
    "version": 3
   },
   "file_extension": ".py",
   "mimetype": "text/x-python",
   "name": "python",
   "nbconvert_exporter": "python",
   "pygments_lexer": "ipython3",
   "version": "3.6.7"
  }
 },
 "nbformat": 4,
 "nbformat_minor": 2
}
